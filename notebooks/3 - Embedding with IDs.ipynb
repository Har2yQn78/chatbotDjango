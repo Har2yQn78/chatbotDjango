{
 "cells": [
  {
   "cell_type": "code",
   "execution_count": 15,
   "id": "92cc10dc-bf0e-4fcb-a77b-942e46e412d3",
   "metadata": {},
   "outputs": [],
   "source": [
    "import os\n",
    "import numpy as np\n",
    "from decouple import config, AutoConfig\n",
    "config = AutoConfig(search_path=\"/home/harry/chatbotDjango\") "
   ]
  },
  {
   "cell_type": "code",
   "execution_count": 16,
   "id": "02202ab5-4a86-4f99-8d4f-fe079f184d6f",
   "metadata": {},
   "outputs": [],
   "source": [
    "MISTRAL_API_KEY = config(\"MISTRAL_API_KEY\")"
   ]
  },
  {
   "cell_type": "code",
   "execution_count": 17,
   "id": "dccb7378-b920-4f06-9f3c-409647bce45d",
   "metadata": {},
   "outputs": [],
   "source": [
    "from mistralai import Mistral\n",
    "\n",
    "model = \"mistral-embed\"\n",
    "\n",
    "client = Mistral(api_key=MISTRAL_API_KEY)"
   ]
  },
  {
   "cell_type": "code",
   "execution_count": 18,
   "id": "6918b7bb-a6e4-4fb3-99d5-7de77f28e930",
   "metadata": {},
   "outputs": [],
   "source": [
    "def get_embedding(text, model=model):\n",
    "    if not isinstance(text, list):\n",
    "        text = [text]\n",
    "    response = client.embeddings.create(model=model, inputs=text)\n",
    "    return np.array([entry.embedding for entry in response.data])"
   ]
  },
  {
   "cell_type": "code",
   "execution_count": 19,
   "id": "b40aa807-0636-4104-ba4d-472adff9acc2",
   "metadata": {},
   "outputs": [],
   "source": [
    "def cosine_similarity(emb1, emb2):\n",
    "    return np.dot(emb1, emb2) / (np.linalg.norm(emb1) * np.linalg.norm(emb2))"
   ]
  },
  {
   "cell_type": "code",
   "execution_count": 20,
   "id": "5bd22634-37ee-44d8-a973-0da9a987329a",
   "metadata": {},
   "outputs": [],
   "source": [
    "docs = [\n",
    "    \"Harry Was Here before you\", \n",
    "    \"You Were Here before Harry\",\n",
    "    \"Harry Was not Here\",\n",
    "    \"The new Assassin's Creed game would be release in two weeks\",\n",
    "]"
   ]
  },
  {
   "cell_type": "code",
   "execution_count": 21,
   "id": "cb5b5433-112e-4d4d-a0c1-a58c3e968fce",
   "metadata": {},
   "outputs": [
    {
     "data": {
      "text/plain": [
       "'Harry Was Here before you'"
      ]
     },
     "execution_count": 21,
     "metadata": {},
     "output_type": "execute_result"
    }
   ],
   "source": [
    "docs[0]"
   ]
  },
  {
   "cell_type": "code",
   "execution_count": 22,
   "id": "5cde5923-e4c3-40a5-a221-8be792862b54",
   "metadata": {},
   "outputs": [
    {
     "name": "stdout",
     "output_type": "stream",
     "text": [
      "0 Harry Was Here before you\n",
      "1 You Were Here before Harry\n",
      "2 Harry Was not Here\n",
      "3 The new Assassin's Creed game would be release in two weeks\n"
     ]
    },
    {
     "data": {
      "text/plain": [
       "[{'index': 0, 'data': 'Harry Was Here before you'},\n",
       " {'index': 1, 'data': 'You Were Here before Harry'},\n",
       " {'index': 2, 'data': 'Harry Was not Here'},\n",
       " {'index': 3,\n",
       "  'data': \"The new Assassin's Creed game would be release in two weeks\"}]"
      ]
     },
     "execution_count": 22,
     "metadata": {},
     "output_type": "execute_result"
    }
   ],
   "source": [
    "documents = []\n",
    "for i, x in enumerate(docs):\n",
    "    print(i, x)\n",
    "    row = {\n",
    "        \"index\": i,\n",
    "        \"data\": x\n",
    "    }\n",
    "\n",
    "    documents.append(row)\n",
    "\n",
    "documents"
   ]
  },
  {
   "cell_type": "code",
   "execution_count": 23,
   "id": "08977b88-6195-43ee-9483-fbccf7369851",
   "metadata": {},
   "outputs": [],
   "source": [
    "dataset = [\n",
    "    {'index': 0, 'data': 'Harry Was Here before you'},\n",
    "     {'index': 1, 'data': 'You Were Here before Harry'},\n",
    "     {'index': 2, 'data': 'Harry Was not Here'},\n",
    "     {'index': 3, 'data': \"The new Assassin's Creed game would be release in two weeks\"}\n",
    "]"
   ]
  },
  {
   "cell_type": "code",
   "execution_count": 25,
   "id": "a9f66d7a-8580-4ca0-8dcc-dddd467bae2b",
   "metadata": {},
   "outputs": [
    {
     "name": "stdout",
     "output_type": "stream",
     "text": [
      "[[-0.03610229  0.0045166   0.03344727 ...  0.00167751  0.00647736\n",
      "  -0.020401  ]]\n",
      "[[-0.03945923  0.02311707  0.02920532 ... -0.00775528 -0.00688934\n",
      "  -0.02246094]]\n"
     ]
    },
    {
     "ename": "SDKError",
     "evalue": "API error occurred: Status 429\n{\"message\":\"Requests rate limit exceeded\"}",
     "output_type": "error",
     "traceback": [
      "\u001b[31m---------------------------------------------------------------------------\u001b[39m",
      "\u001b[31mSDKError\u001b[39m                                  Traceback (most recent call last)",
      "\u001b[36mCell\u001b[39m\u001b[36m \u001b[39m\u001b[32mIn[25]\u001b[39m\u001b[32m, line 2\u001b[39m\n\u001b[32m      1\u001b[39m \u001b[38;5;28;01mfor\u001b[39;00m x \u001b[38;5;129;01min\u001b[39;00m dataset:\n\u001b[32m----> \u001b[39m\u001b[32m2\u001b[39m     embed = \u001b[43mget_embedding\u001b[49m\u001b[43m(\u001b[49m\u001b[43mx\u001b[49m\u001b[43m.\u001b[49m\u001b[43mget\u001b[49m\u001b[43m(\u001b[49m\u001b[33;43m'\u001b[39;49m\u001b[33;43mdata\u001b[39;49m\u001b[33;43m'\u001b[39;49m\u001b[43m)\u001b[49m\u001b[43m)\u001b[49m  \n\u001b[32m      3\u001b[39m     \u001b[38;5;28mprint\u001b[39m(embed)\n",
      "\u001b[36mCell\u001b[39m\u001b[36m \u001b[39m\u001b[32mIn[18]\u001b[39m\u001b[32m, line 4\u001b[39m, in \u001b[36mget_embedding\u001b[39m\u001b[34m(text, model)\u001b[39m\n\u001b[32m      2\u001b[39m \u001b[38;5;28;01mif\u001b[39;00m \u001b[38;5;129;01mnot\u001b[39;00m \u001b[38;5;28misinstance\u001b[39m(text, \u001b[38;5;28mlist\u001b[39m):\n\u001b[32m      3\u001b[39m     text = [text]\n\u001b[32m----> \u001b[39m\u001b[32m4\u001b[39m response = \u001b[43mclient\u001b[49m\u001b[43m.\u001b[49m\u001b[43membeddings\u001b[49m\u001b[43m.\u001b[49m\u001b[43mcreate\u001b[49m\u001b[43m(\u001b[49m\u001b[43mmodel\u001b[49m\u001b[43m=\u001b[49m\u001b[43mmodel\u001b[49m\u001b[43m,\u001b[49m\u001b[43m \u001b[49m\u001b[43minputs\u001b[49m\u001b[43m=\u001b[49m\u001b[43mtext\u001b[49m\u001b[43m)\u001b[49m\n\u001b[32m      5\u001b[39m \u001b[38;5;28;01mreturn\u001b[39;00m np.array([entry.embedding \u001b[38;5;28;01mfor\u001b[39;00m entry \u001b[38;5;129;01min\u001b[39;00m response.data])\n",
      "\u001b[36mFile \u001b[39m\u001b[32m~/chatbotDjango/venv/lib/python3.11/site-packages/mistralai/embeddings.py:99\u001b[39m, in \u001b[36mEmbeddings.create\u001b[39m\u001b[34m(self, inputs, model, encoding_format, retries, server_url, timeout_ms, http_headers)\u001b[39m\n\u001b[32m     97\u001b[39m \u001b[38;5;28;01mif\u001b[39;00m utils.match_response(http_res, \u001b[33m\"\u001b[39m\u001b[33m4XX\u001b[39m\u001b[33m\"\u001b[39m, \u001b[33m\"\u001b[39m\u001b[33m*\u001b[39m\u001b[33m\"\u001b[39m):\n\u001b[32m     98\u001b[39m     http_res_text = utils.stream_to_text(http_res)\n\u001b[32m---> \u001b[39m\u001b[32m99\u001b[39m     \u001b[38;5;28;01mraise\u001b[39;00m models.SDKError(\n\u001b[32m    100\u001b[39m         \u001b[33m\"\u001b[39m\u001b[33mAPI error occurred\u001b[39m\u001b[33m\"\u001b[39m, http_res.status_code, http_res_text, http_res\n\u001b[32m    101\u001b[39m     )\n\u001b[32m    102\u001b[39m \u001b[38;5;28;01mif\u001b[39;00m utils.match_response(http_res, \u001b[33m\"\u001b[39m\u001b[33m5XX\u001b[39m\u001b[33m\"\u001b[39m, \u001b[33m\"\u001b[39m\u001b[33m*\u001b[39m\u001b[33m\"\u001b[39m):\n\u001b[32m    103\u001b[39m     http_res_text = utils.stream_to_text(http_res)\n",
      "\u001b[31mSDKError\u001b[39m: API error occurred: Status 429\n{\"message\":\"Requests rate limit exceeded\"}"
     ]
    }
   ],
   "source": [
    "for x in dataset:\n",
    "    embed = get_embedding(x.get('data'))  \n",
    "    print(embed)"
   ]
  },
  {
   "cell_type": "code",
   "execution_count": null,
   "id": "11db8193-ecce-4273-ba53-8141ce58af7f",
   "metadata": {},
   "outputs": [],
   "source": []
  }
 ],
 "metadata": {
  "kernelspec": {
   "display_name": "Python 3 (ipykernel)",
   "language": "python",
   "name": "python3"
  },
  "language_info": {
   "codemirror_mode": {
    "name": "ipython",
    "version": 3
   },
   "file_extension": ".py",
   "mimetype": "text/x-python",
   "name": "python",
   "nbconvert_exporter": "python",
   "pygments_lexer": "ipython3",
   "version": "3.11.11"
  }
 },
 "nbformat": 4,
 "nbformat_minor": 5
}
