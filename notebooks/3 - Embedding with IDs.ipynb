{
 "cells": [
  {
   "cell_type": "code",
   "execution_count": 18,
   "id": "92cc10dc-bf0e-4fcb-a77b-942e46e412d3",
   "metadata": {},
   "outputs": [],
   "source": [
    "import os\n",
    "import numpy as np\n",
    "from decouple import config, AutoConfig\n",
    "config = AutoConfig(search_path=\"/home/harry/chatbotDjango\") "
   ]
  },
  {
   "cell_type": "code",
   "execution_count": 19,
   "id": "02202ab5-4a86-4f99-8d4f-fe079f184d6f",
   "metadata": {},
   "outputs": [],
   "source": [
    "MISTRAL_API_KEY = config(\"MISTRAL_API_KEY\")"
   ]
  },
  {
   "cell_type": "code",
   "execution_count": 20,
   "id": "dccb7378-b920-4f06-9f3c-409647bce45d",
   "metadata": {},
   "outputs": [],
   "source": [
    "from mistralai import Mistral\n",
    "\n",
    "model = \"mistral-embed\"\n",
    "\n",
    "client = Mistral(api_key=MISTRAL_API_KEY)"
   ]
  },
  {
   "cell_type": "code",
   "execution_count": 21,
   "id": "6918b7bb-a6e4-4fb3-99d5-7de77f28e930",
   "metadata": {},
   "outputs": [],
   "source": [
    "def get_embedding(text, model=model):\n",
    "    if not isinstance(text, list):\n",
    "        text = [text]\n",
    "    response = client.embeddings.create(model=model, inputs=text)\n",
    "    return np.array([entry.embedding for entry in response.data])"
   ]
  },
  {
   "cell_type": "code",
   "execution_count": 22,
   "id": "b40aa807-0636-4104-ba4d-472adff9acc2",
   "metadata": {},
   "outputs": [],
   "source": [
    "def cosine_similarity(emb1, emb2):\n",
    "    return np.dot(emb1, emb2) / (np.linalg.norm(emb1) * np.linalg.norm(emb2))"
   ]
  },
  {
   "cell_type": "code",
   "execution_count": 23,
   "id": "5bd22634-37ee-44d8-a973-0da9a987329a",
   "metadata": {},
   "outputs": [],
   "source": [
    "docs = [\n",
    "    \"Harry Was Here before you\", \n",
    "    \"You Were Here before Harry\",\n",
    "    \"Harry Was not Here\",\n",
    "    \"The new Assassin's Creed game would be release in two weeks\",\n",
    "]"
   ]
  },
  {
   "cell_type": "code",
   "execution_count": 24,
   "id": "cb5b5433-112e-4d4d-a0c1-a58c3e968fce",
   "metadata": {},
   "outputs": [
    {
     "data": {
      "text/plain": [
       "'Harry Was Here before you'"
      ]
     },
     "execution_count": 24,
     "metadata": {},
     "output_type": "execute_result"
    }
   ],
   "source": [
    "docs[0]"
   ]
  },
  {
   "cell_type": "code",
   "execution_count": 25,
   "id": "5cde5923-e4c3-40a5-a221-8be792862b54",
   "metadata": {},
   "outputs": [
    {
     "name": "stdout",
     "output_type": "stream",
     "text": [
      "0 Harry Was Here before you\n",
      "1 You Were Here before Harry\n",
      "2 Harry Was not Here\n",
      "3 The new Assassin's Creed game would be release in two weeks\n"
     ]
    },
    {
     "data": {
      "text/plain": [
       "[{'index': 0, 'data': 'Harry Was Here before you'},\n",
       " {'index': 1, 'data': 'You Were Here before Harry'},\n",
       " {'index': 2, 'data': 'Harry Was not Here'},\n",
       " {'index': 3,\n",
       "  'data': \"The new Assassin's Creed game would be release in two weeks\"}]"
      ]
     },
     "execution_count": 25,
     "metadata": {},
     "output_type": "execute_result"
    }
   ],
   "source": [
    "documents = []\n",
    "for i, x in enumerate(docs):\n",
    "    print(i, x)\n",
    "    row = {\n",
    "        \"index\": i,\n",
    "        \"data\": x\n",
    "    }\n",
    "\n",
    "    documents.append(row)\n",
    "\n",
    "documents"
   ]
  },
  {
   "cell_type": "code",
   "execution_count": 26,
   "id": "08977b88-6195-43ee-9483-fbccf7369851",
   "metadata": {},
   "outputs": [],
   "source": [
    "dataset = [\n",
    "    {'index': 0, 'data': 'Harry Was Here before you'},\n",
    "     {'index': 1, 'data': 'You Were Here before Harry'},\n",
    "     {'index': 2, 'data': 'Harry Was not Here'},\n",
    "     {'index': 3, 'data': \"The new Assassin's Creed game would be release in two weeks\"}\n",
    "]"
   ]
  },
  {
   "cell_type": "code",
   "execution_count": 27,
   "id": "a9f66d7a-8580-4ca0-8dcc-dddd467bae2b",
   "metadata": {},
   "outputs": [],
   "source": [
    "import time\n",
    "document_embeddings = []\n",
    "\n",
    "for x in dataset:\n",
    "    embed = get_embedding(x['data'])\n",
    "    document_embeddings.append((x['index'], embed))\n",
    "    time.sleep(2)"
   ]
  },
  {
   "cell_type": "code",
   "execution_count": 31,
   "id": "11db8193-ecce-4273-ba53-8141ce58af7f",
   "metadata": {},
   "outputs": [],
   "source": [
    "query = \"I bought a new game called Assassin's Creed\"\n",
    "query_embedding = get_embedding([query])"
   ]
  },
  {
   "cell_type": "code",
   "execution_count": 32,
   "id": "367c7f0b-0d99-47dc-aa74-b384b04e5bb2",
   "metadata": {},
   "outputs": [
    {
     "data": {
      "text/plain": [
       "(1, 1024)"
      ]
     },
     "execution_count": 32,
     "metadata": {},
     "output_type": "execute_result"
    }
   ],
   "source": [
    "query_embedding.shape"
   ]
  },
  {
   "cell_type": "code",
   "execution_count": 33,
   "id": "3c74b935-6f7b-42b1-b3d9-3378069c749c",
   "metadata": {},
   "outputs": [
    {
     "data": {
      "text/plain": [
       "[(3, np.float64(0.7721628054416644)),\n",
       " (2, np.float64(0.5582020361938994)),\n",
       " (0, np.float64(0.5134759028374886)),\n",
       " (1, np.float64(0.4897160057580173))]"
      ]
     },
     "execution_count": 33,
     "metadata": {},
     "output_type": "execute_result"
    }
   ],
   "source": [
    "results = []\n",
    "for doc_id, doc_embedding in document_embeddings:\n",
    "    similarity = cosine_similarity(query_embedding[0], doc_embedding[0]) \n",
    "    results.append((doc_id, similarity))\n",
    "\n",
    "sorted_results = sorted(results, key=lambda x: x[1], reverse=True)\n",
    "sorted_results"
   ]
  },
  {
   "cell_type": "code",
   "execution_count": null,
   "id": "6f8d25c1-7c56-421f-98b3-f76cabdc6106",
   "metadata": {},
   "outputs": [],
   "source": []
  }
 ],
 "metadata": {
  "kernelspec": {
   "display_name": "Python 3 (ipykernel)",
   "language": "python",
   "name": "python3"
  },
  "language_info": {
   "codemirror_mode": {
    "name": "ipython",
    "version": 3
   },
   "file_extension": ".py",
   "mimetype": "text/x-python",
   "name": "python",
   "nbconvert_exporter": "python",
   "pygments_lexer": "ipython3",
   "version": "3.11.11"
  }
 },
 "nbformat": 4,
 "nbformat_minor": 5
}
