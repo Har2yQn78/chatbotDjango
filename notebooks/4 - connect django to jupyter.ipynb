{
 "cells": [
  {
   "cell_type": "code",
   "execution_count": 4,
   "id": "038dbbfa-8be6-41f5-8c4f-e9f5c904b5a0",
   "metadata": {},
   "outputs": [],
   "source": [
    "import setup\n",
    "\n",
    "setup.init_django()"
   ]
  },
  {
   "cell_type": "code",
   "execution_count": 5,
   "id": "696f5ae0-e1fe-4b79-8d5c-62db59198ebc",
   "metadata": {},
   "outputs": [],
   "source": [
    "from data.models import BlogPost"
   ]
  },
  {
   "cell_type": "code",
   "execution_count": 6,
   "id": "e003be39-6899-42a0-a2f4-e626da9cb391",
   "metadata": {},
   "outputs": [
    {
     "data": {
      "text/plain": [
       "<QuerySet []>"
      ]
     },
     "execution_count": 6,
     "metadata": {},
     "output_type": "execute_result"
    }
   ],
   "source": [
    "qs = BlogPost.objects.all()\n",
    "qs"
   ]
  },
  {
   "cell_type": "code",
   "execution_count": null,
   "id": "c00c9bfd-8f3d-4191-b466-219d604a6ba3",
   "metadata": {},
   "outputs": [],
   "source": []
  }
 ],
 "metadata": {
  "kernelspec": {
   "display_name": "Python 3 (ipykernel)",
   "language": "python",
   "name": "python3"
  },
  "language_info": {
   "codemirror_mode": {
    "name": "ipython",
    "version": 3
   },
   "file_extension": ".py",
   "mimetype": "text/x-python",
   "name": "python",
   "nbconvert_exporter": "python",
   "pygments_lexer": "ipython3",
   "version": "3.11.11"
  }
 },
 "nbformat": 4,
 "nbformat_minor": 5
}
