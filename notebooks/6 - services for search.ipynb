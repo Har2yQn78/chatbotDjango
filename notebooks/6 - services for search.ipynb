{
 "cells": [
  {
   "cell_type": "code",
   "execution_count": 1,
   "id": "038dbbfa-8be6-41f5-8c4f-e9f5c904b5a0",
   "metadata": {},
   "outputs": [],
   "source": [
    "import setup\n",
    "import os\n",
    "from decouple import config, AutoConfig\n",
    "config = AutoConfig(search_path=\"/home/harry/chatbotDjango\") \n",
    "\n",
    "setup.init_django()"
   ]
  },
  {
   "cell_type": "code",
   "execution_count": 2,
   "id": "b42b2356-c27e-4286-a236-1995663b818c",
   "metadata": {},
   "outputs": [],
   "source": [
    "from data import services"
   ]
  },
  {
   "cell_type": "code",
   "execution_count": 9,
   "id": "da8dc59d-20a7-4738-87e4-1682f2ee5e20",
   "metadata": {},
   "outputs": [],
   "source": [
    "result = services.search_posts(\"Good Morning\")"
   ]
  },
  {
   "cell_type": "code",
   "execution_count": 10,
   "id": "7a69cb1b-6e77-4c83-b4ba-eb94ca84e7ab",
   "metadata": {},
   "outputs": [
    {
     "data": {
      "text/plain": [
       "0.6828384473298927"
      ]
     },
     "execution_count": 10,
     "metadata": {},
     "output_type": "execute_result"
    }
   ],
   "source": [
    "result.first().similarity"
   ]
  },
  {
   "cell_type": "code",
   "execution_count": null,
   "id": "64c1e43b-a41a-4907-856d-b70b0526b1bb",
   "metadata": {},
   "outputs": [],
   "source": []
  }
 ],
 "metadata": {
  "kernelspec": {
   "display_name": "Python 3 (ipykernel)",
   "language": "python",
   "name": "python3"
  },
  "language_info": {
   "codemirror_mode": {
    "name": "ipython",
    "version": 3
   },
   "file_extension": ".py",
   "mimetype": "text/x-python",
   "name": "python",
   "nbconvert_exporter": "python",
   "pygments_lexer": "ipython3",
   "version": "3.11.11"
  }
 },
 "nbformat": 4,
 "nbformat_minor": 5
}
