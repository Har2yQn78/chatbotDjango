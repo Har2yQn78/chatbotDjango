{
 "cells": [
  {
   "cell_type": "code",
   "execution_count": 1,
   "id": "abc78c8f-5754-4744-bdc8-a407936de6f1",
   "metadata": {},
   "outputs": [],
   "source": [
    "import setup\n",
    "\n",
    "setup.init_django()"
   ]
  },
  {
   "cell_type": "code",
   "execution_count": 2,
   "id": "98cd97d0-3b59-48a7-9fc6-28e5342a6992",
   "metadata": {},
   "outputs": [],
   "source": [
    "from rag import (\n",
    "    db as rag_db, \n",
    "    engines as rag_engines,\n",
    "    settings as rag_settings, \n",
    "    updaters as rag_updaters,\n",
    "    patches as rag_patches,\n",
    ")"
   ]
  },
  {
   "cell_type": "code",
   "execution_count": 3,
   "id": "68499f9d-26d0-4cba-bf79-2fcc523abfca",
   "metadata": {},
   "outputs": [],
   "source": [
    "from typing import Optional, Union\n",
    "from sqlalchemy import create_engine, text"
   ]
  },
  {
   "cell_type": "code",
   "execution_count": 4,
   "id": "4792577b-8017-4eb1-a720-835baa6352fa",
   "metadata": {},
   "outputs": [],
   "source": [
    "rag_settings.init()\n",
    "rag_db.init_vector_db()\n",
    "rag_updaters.update_llama_index_documents(use_saved_embeddings=True)"
   ]
  },
  {
   "cell_type": "code",
   "execution_count": 5,
   "id": "851a5b0a-053d-4d71-acaa-e443c7ef44c1",
   "metadata": {},
   "outputs": [],
   "source": [
    "vector_index = rag_engines.get_semantic_query_index()\n",
    "semantic_query_retriever = rag_engines.get_semantic_query_retriever_engine()\n",
    "sql_query_engine = rag_engines.get_sql_query_engine()"
   ]
  },
  {
   "cell_type": "code",
   "execution_count": 6,
   "id": "c26810b9-aadf-4bfa-846d-34a0b2c0879e",
   "metadata": {},
   "outputs": [
    {
     "name": "stdout",
     "output_type": "stream",
     "text": [
      "vector_db blogpost\n"
     ]
    }
   ],
   "source": [
    "print(rag_settings.VECTOR_DB_NAME, rag_settings.VECTOR_DB_TABLE_NAME)"
   ]
  },
  {
   "cell_type": "code",
   "execution_count": 7,
   "id": "327c5299-5c03-443f-b825-74d5ae2a9730",
   "metadata": {},
   "outputs": [],
   "source": [
    "from llama_index.core.tools import QueryEngineTool\n",
    "\n",
    "vector_tool = QueryEngineTool.from_defaults(\n",
    "    query_engine=semantic_query_retriever,\n",
    "    description=(\n",
    "        f\"Useful for answering semantic questions about different blog posts\"\n",
    "    ),\n",
    ")"
   ]
  },
  {
   "cell_type": "code",
   "execution_count": 8,
   "id": "8f500203-7427-4c1c-9a48-55bab331a08b",
   "metadata": {},
   "outputs": [],
   "source": [
    "sql_tool = QueryEngineTool.from_defaults(\n",
    "    query_engine=sql_query_engine,\n",
    "    description=(\n",
    "        \"Useful for translating a natural language query into a SQL query over\"\n",
    "        \" a table containing: blog posts and page views each blog post\"\n",
    "    ),\n",
    ")"
   ]
  },
  {
   "cell_type": "code",
   "execution_count": 9,
   "id": "bb4dba5e-431f-4e3f-b1e9-601ab17bacd7",
   "metadata": {},
   "outputs": [],
   "source": [
    "query_engine = rag_patches.MySQLAutoVectorQueryEngine(\n",
    "    sql_tool, \n",
    "    vector_tool,\n",
    ")"
   ]
  },
  {
   "cell_type": "code",
   "execution_count": 10,
   "id": "b57e35c1-899e-4a30-ad42-dc98c1d94f1d",
   "metadata": {},
   "outputs": [
    {
     "name": "stdout",
     "output_type": "stream",
     "text": [
      "\u001b[1;3;34mQuerying SQL database: The question 'What do you make?' is more likely to be answered by translating it into a SQL query to retrieve data from a table containing blog posts and page views.\n",
      "\u001b[1;3;33mSQL query: SELECT title, content\n",
      "FROM data_blogpost\n",
      "ORDER BY timestamp DESC\n",
      "LIMIT 1;\n",
      "\u001b[0m\u001b[1;3;33mSQL response: Based on the latest blog post, the author discusses thoughts on the phrase \"I’m bored.\" The content suggests that feeling bored can be beneficial, especially for those under 14, as it can prompt forward motion and encourage self-entertainment. The author views boredom as an opportunity to use empty space creatively.\n",
      "\u001b[1;3;34mTransformed query given SQL response: Based on the original question \"What do you make?\" and the SQL response, the author's latest blog post discusses thoughts on the phrase \"I’m bored.\" To fully answer the original question, we need more specific information about what the author creates or produces. Therefore, a more specific question could be:\n",
      "\n",
      "New question: What types of content or products does the author create?\n",
      "\u001b[1;3;38;5;200mquery engine response: The author creates blog posts and is involved in running educational programs. For instance, they have mentioned running the altMBA program, which focuses on learning and leadership. Additionally, the author discusses various topics in their blog posts, including decision-making, cultural progress, resource management, and the differences between education and learning.\n",
      "\u001b[0m"
     ]
    }
   ],
   "source": [
    "response = query_engine.query(\n",
    "    \"What do you make?\"\n",
    ")"
   ]
  },
  {
   "cell_type": "code",
   "execution_count": 11,
   "id": "9b3c8059-a3d6-49d9-9e16-8cf09a4f7abd",
   "metadata": {},
   "outputs": [
    {
     "data": {
      "text/plain": [
       "'Based on the information gathered from both the SQL query and the vector store query, here\\'s a synthesized response to the original question \"What do you make?\":\\n\\nThe author creates a variety of content and is involved in several educational initiatives. Specifically, the author writes blog posts that cover a range of topics, including decision-making, cultural progress, resource management, and the differences between education and learning. For instance, in their latest blog post, the author discusses the phrase \"I’m bored,\" suggesting that boredom can be beneficial, especially for those under 14, as it can prompt forward motion and encourage self-entertainment.\\n\\nAdditionally, the author is involved in running educational programs. One notable program is the altMBA, which focuses on learning and leadership. This indicates that the author\\'s work revolves around creating educational content and programs that foster personal growth and development.'"
      ]
     },
     "execution_count": 11,
     "metadata": {},
     "output_type": "execute_result"
    }
   ],
   "source": [
    "response.response"
   ]
  },
  {
   "cell_type": "code",
   "execution_count": 16,
   "id": "594759fe-aa4f-4a73-ad50-58d4a9e41c36",
   "metadata": {},
   "outputs": [
    {
     "name": "stdout",
     "output_type": "stream",
     "text": [
      "\u001b[1;3;34mQuerying SQL database: The question asks for the top 5 most viewed blog posts and keywords in their content, which involves translating the query into a SQL query over a table containing blog posts and page views.\n",
      "\u001b[1;3;33mSQL query: SELECT\n",
      "    db.id,\n",
      "    db.title,\n",
      "    db.content,\n",
      "    COUNT(ap.id) AS view_count\n",
      "FROM\n",
      "    data_blogpost db\n",
      "JOIN\n",
      "    analytics_pageview ap ON db.id = ap.post_id\n",
      "GROUP BY\n",
      "    db.id\n",
      "ORDER BY\n",
      "    view_count DESC\n",
      "LIMIT 5;\n",
      "\u001b[0m\u001b[1;3;33mSQL response: Based on the query results, the top 5 most viewed blog posts are:\n",
      "\n",
      "1. **\"Blog Post 1\"** with 3,208 views.\n",
      "   - Keywords: Harry, Here, before, you\n",
      "\n",
      "2. **\"Blog Post 2\"** with 2,201 views.\n",
      "   - Keywords: You, Here, before, Harry\n",
      "\n",
      "3. **\"Blog Post 3\"** with 1,761 views.\n",
      "   - Keywords: Harry, Was, not, Here\n",
      "\n",
      "4. **\"What kind of org?\"** with 1,235 views.\n",
      "   - Keywords: organization, systems, charts, boxes, organism, changes\n",
      "\n",
      "5. **\"Taking it very seriously\"** with 1,125 views.\n",
      "   - Keywords: Today, April, first, day, greeting, Happy, New Year’s, date, internet, understood, act, smile, pretend, apocalypse\n",
      "\n",
      "These keywords are derived directly from the content of each blog post.\n",
      "\u001b[1;3;34mTransformed query given SQL response: Based on the SQL response, the original question has been partially answered by providing the top 5 most viewed blog posts and some keywords from their content. However, the keywords provided are quite generic and may not fully capture the main topics or themes of the blog posts. To fully answer the original question, a more specific question could be:\n",
      "\n",
      "\"What are the main topics or themes discussed in each of the top 5 most viewed blog posts?\"\n",
      "\n",
      "This follow-up question would help to better understand the context and subject matter of the most popular blog posts, rather than just having a few generic keywords.\n",
      "\u001b[1;3;38;5;200mquery engine response: The main topics or themes discussed in each of the top 5 most viewed blog posts are as follows:\n",
      "\n",
      "1. **Effective Online Communication**: This post highlights the unique aspects of communicating online, such as the ease of stealing attention, the differences between asynchronous and synchronous interaction, the ability for multiple people to 'talk' at once, and the potential for leaving a trail of conversations.\n",
      "\n",
      "2. **Acknowledgments**: This post expresses gratitude towards various individuals and groups who have gone above and beyond their duties, especially during challenging times. It mentions healthcare workers, frontline workers, tech companies, non-profit leaders, entrepreneurs, parents, and many others who have shown resilience and dedication.\n",
      "\n",
      "3. **Information and Competitive Advantage**: This post discusses how having more information is a competitive advantage but is not enough on its own. It emphasizes the importance of good judgment and a thoughtful point of view in addition to domain knowledge.\n",
      "\n",
      "4. **Future Opportunities**: This post reflects on the changes brought about by recent events and the need for a commitment to learning and possibility. It highlights the shift from the industrial era to one based on connection, leadership, and making a difference.\n",
      "\n",
      "5. **Communication Strategies**: This post offers a simple communications hack for small teams and organizations, comparing the use of bulletins versus bulletin boards. It discusses the benefits of using a bulletin board approach, such as a shared Google doc, for keeping people informed without overwhelming them with alerts.\n",
      "\u001b[0m"
     ]
    }
   ],
   "source": [
    "response = query_engine.query(\n",
    "    \"What are the top 5 most viewed blog posts? What keywords do their content have?\"\n",
    ")"
   ]
  },
  {
   "cell_type": "code",
   "execution_count": 13,
   "id": "34933bf9-079f-40f7-afa4-5acc57e03985",
   "metadata": {},
   "outputs": [
    {
     "data": {
      "text/markdown": [
       "Based on the query results, the top 5 most viewed blog posts are:\n",
       "\n",
       "1. **\"Blog Post 1\"** with the content: *\"Harry Was Here before you\"*. Keywords include:\n",
       "   - Harry\n",
       "   - Was\n",
       "   - Here\n",
       "   - before\n",
       "   - you\n",
       "\n",
       "2. **\"Blog Post 2\"** with the content: *\"You Were Here before Harry\"*. Keywords include:\n",
       "   - You\n",
       "   - Were\n",
       "   - Here\n",
       "   - before\n",
       "   - Harry\n",
       "\n",
       "3. **\"Blog Post 3\"** with the content: *\"Harry Was not Here\"*. Keywords include:\n",
       "   - Harry\n",
       "   - Was\n",
       "   - not\n",
       "   - Here\n",
       "\n",
       "4. **\"What kind of org?\"** with the content: *\"Maybe you work with an organization. They have systems and charts and boxes.But the very nature of an organization is that someone developed it, figured it out and has to approve its changes. After all, it’s organized.Perhaps you work with an organism instead. An organism constantly changes. The...\"*. Keywords include:\n",
       "   - organization\n",
       "   - systems\n",
       "   - charts\n",
       "   - boxes\n",
       "   - developed\n",
       "   - organized\n",
       "   - organism\n",
       "   - changes\n",
       "\n",
       "5. **\"Taking it very seriously\"** with the content: *\"Today, April first, was the day for a particular greeting, the only one except New Year’s that’s simply based on the date. Happy.It was a day that people on the internet understood that it’s possible to act as if and to do it with a smile. To pretend that we’re not on the brink of apocalypse of...\"*. Keywords include:\n",
       "   - April\n",
       "   - first\n",
       "   - day\n",
       "   - greeting\n",
       "   - New Year’s\n",
       "   - date\n",
       "   - Happy\n",
       "   - internet\n",
       "   - act\n",
       "   - smile\n",
       "   - apocalypse\n",
       "\n",
       "These keywords are derived directly from the content of each blog post."
      ],
      "text/plain": [
       "<IPython.core.display.Markdown object>"
      ]
     },
     "metadata": {},
     "output_type": "display_data"
    }
   ],
   "source": [
    "from IPython.display import Markdown, display\n",
    "\n",
    "display(Markdown(response.response))"
   ]
  },
  {
   "cell_type": "code",
   "execution_count": 17,
   "id": "8e044e15-30d5-43c7-8e3e-a7e000714de1",
   "metadata": {},
   "outputs": [
    {
     "name": "stdout",
     "output_type": "stream",
     "text": [
      "\u001b[1;3;34mQuerying SQL database: The question requires translating a natural language query into a SQL query to determine the top 5 least viewed blog posts within a specific time frame, which aligns with the capability described in choice (1).\n",
      "\u001b[1;3;33mSQL query: SELECT\n",
      "    data_blogpost.id,\n",
      "    data_blogpost.title,\n",
      "    COUNT(analytics_pageview.id) AS view_count\n",
      "FROM\n",
      "    data_blogpost\n",
      "LEFT JOIN\n",
      "    analytics_pageview\n",
      "ON\n",
      "    data_blogpost.id = analytics_pageview.post_id\n",
      "WHERE\n",
      "    analytics_pageview.timestamp BETWEEN '2024-01-01' AND '2025-12-31'\n",
      "GROUP BY\n",
      "    data_blogpost.id,\n",
      "    data_blogpost.title\n",
      "ORDER BY\n",
      "    view_count ASC\n",
      "LIMIT 5;\n",
      "\u001b[0m\u001b[1;3;33mSQL response: Based on the query results, the top 5 least viewed blog posts from the year 2024 to 2025 are as follows:\n",
      "\n",
      "1. **\"Forward\"** with 161 views.\n",
      "2. **\"GenC\"** with 206 views.\n",
      "3. **\"Toward better\"** with 230 views.\n",
      "4. **\"Bulletins vs bulletin boards\"** with 250 views.\n",
      "5. **\"Generous isn’t always the same as free\"** with 261 views.\n",
      "\n",
      "These blog posts had the lowest view counts within the specified timeframe.\n",
      "\u001b[1;3;34mTransformed query given SQL response: None\n",
      "\u001b[0mBased on the query results, the top 5 least viewed blog posts from the year 2024 to 2025 are as follows:\n",
      "\n",
      "1. **\"Forward\"** with 161 views.\n",
      "2. **\"GenC\"** with 206 views.\n",
      "3. **\"Toward better\"** with 230 views.\n",
      "4. **\"Bulletins vs bulletin boards\"** with 250 views.\n",
      "5. **\"Generous isn’t always the same as free\"** with 261 views.\n",
      "\n",
      "These blog posts had the lowest view counts within the specified timeframe.\n"
     ]
    }
   ],
   "source": [
    "response = query_engine.query(\n",
    "    \"What are the top 5 least viewed blog posts in the year 2024 to 2025?\"\n",
    ")\n",
    "print(response.response)"
   ]
  },
  {
   "cell_type": "code",
   "execution_count": 18,
   "id": "2323497e-9b0e-4fdb-ba15-6b5f978d6f49",
   "metadata": {},
   "outputs": [
    {
     "data": {
      "text/markdown": [
       "Based on the query results, the top 5 least viewed blog posts from the year 2024 to 2025 are as follows:\n",
       "\n",
       "1. **\"Forward\"** with 161 views.\n",
       "2. **\"GenC\"** with 206 views.\n",
       "3. **\"Toward better\"** with 230 views.\n",
       "4. **\"Bulletins vs bulletin boards\"** with 250 views.\n",
       "5. **\"Generous isn’t always the same as free\"** with 261 views.\n",
       "\n",
       "These blog posts had the lowest view counts within the specified timeframe."
      ],
      "text/plain": [
       "<IPython.core.display.Markdown object>"
      ]
     },
     "metadata": {},
     "output_type": "display_data"
    }
   ],
   "source": [
    "display(Markdown(response.response))"
   ]
  },
  {
   "cell_type": "code",
   "execution_count": null,
   "id": "15e48da0-dd8c-48ac-bb95-3a0bc908efa9",
   "metadata": {},
   "outputs": [],
   "source": []
  }
 ],
 "metadata": {
  "kernelspec": {
   "display_name": "Python 3 (ipykernel)",
   "language": "python",
   "name": "python3"
  },
  "language_info": {
   "codemirror_mode": {
    "name": "ipython",
    "version": 3
   },
   "file_extension": ".py",
   "mimetype": "text/x-python",
   "name": "python",
   "nbconvert_exporter": "python",
   "pygments_lexer": "ipython3",
   "version": "3.11.11"
  }
 },
 "nbformat": 4,
 "nbformat_minor": 5
}
