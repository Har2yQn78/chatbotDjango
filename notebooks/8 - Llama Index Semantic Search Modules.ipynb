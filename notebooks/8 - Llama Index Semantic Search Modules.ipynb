{
 "cells": [
  {
   "cell_type": "code",
   "execution_count": 1,
   "id": "953d5d58-31c1-4505-8ecd-4a038568191a",
   "metadata": {},
   "outputs": [],
   "source": [
    "import setup\n",
    "\n",
    "setup.init_django()"
   ]
  },
  {
   "cell_type": "code",
   "execution_count": 3,
   "id": "d6861060-2cfa-49ef-bab6-59feb61a27eb",
   "metadata": {},
   "outputs": [
    {
     "name": "stdout",
     "output_type": "stream",
     "text": [
      "Syncing 4 docs\n",
      "Sync done.\n"
     ]
    }
   ],
   "source": [
    "from rag import engines, sync\n",
    "\n",
    "sync.sync_blog_docs()"
   ]
  },
  {
   "cell_type": "code",
   "execution_count": 4,
   "id": "f5cd051e-37af-4a4c-8c71-f22ad2c34258",
   "metadata": {},
   "outputs": [],
   "source": [
    "query_engine = engines.get_semantic_query_engine()"
   ]
  },
  {
   "cell_type": "code",
   "execution_count": 5,
   "id": "12d0e2f5-42d1-4c85-a6fc-9f0542f2920c",
   "metadata": {},
   "outputs": [
    {
     "name": "stdout",
     "output_type": "stream",
     "text": [
      "Hello! How can I assist you today?\n"
     ]
    }
   ],
   "source": [
    "response = query_engine.query(\"hi there\")\n",
    "print(response.response)"
   ]
  },
  {
   "cell_type": "code",
   "execution_count": 11,
   "id": "ceeb4171-9a04-4bc5-b7d9-04122456af95",
   "metadata": {},
   "outputs": [
    {
     "name": "stdout",
     "output_type": "stream",
     "text": [
      "Score 0.8516275041793276\n",
      "Contents Harry Was not Here\n",
      "Metadata {'pk': 27, 'title': 'Blog Post 3'}\n",
      "Score 0.8178871675238751\n",
      "Contents Harry Was Here before you\n",
      "Metadata {'pk': 25, 'title': 'Blog Post 1'}\n"
     ]
    }
   ],
   "source": [
    "response = query_engine.query(\"Harry Was\")\n",
    "nodes = response.source_nodes\n",
    "\n",
    "for node in response.source_nodes:\n",
    "    print(\"Score\", node.score)\n",
    "    print(\"Contents\", node.node.get_content())\n",
    "    print(\"Metadata\", node.node.metadata)"
   ]
  },
  {
   "cell_type": "code",
   "execution_count": 14,
   "id": "a3e2b2b7-4d7c-4b2e-8fb7-9f846f196c74",
   "metadata": {},
   "outputs": [],
   "source": [
    "query_retriever_engine = engines.get_semantic_query_retriever_engine(top_k=5)"
   ]
  },
  {
   "cell_type": "code",
   "execution_count": 15,
   "id": "c90813ad-2c41-420b-afbd-9ad9178cb9bb",
   "metadata": {},
   "outputs": [],
   "source": [
    "ranked_response = query_retriever_engine.query(\"Harry Was\")"
   ]
  },
  {
   "cell_type": "code",
   "execution_count": 16,
   "id": "1d99edff-28c9-423f-b6a5-8bf947cc196c",
   "metadata": {},
   "outputs": [
    {
     "name": "stdout",
     "output_type": "stream",
     "text": [
      "Score 0.8516275041793276\n",
      "Contents Harry Was not Here\n",
      "Metadata {'pk': 27, 'title': 'Blog Post 3'}\n",
      "Score 0.8178871675238751\n",
      "Contents Harry Was Here before you\n",
      "Metadata {'pk': 25, 'title': 'Blog Post 1'}\n",
      "Score 0.7670804859274235\n",
      "Contents You Were Here before Harry\n",
      "Metadata {'pk': 26, 'title': 'Blog Post 2'}\n",
      "Score 0.4987566150029171\n",
      "Contents The new Assassin's Creed game would be release in two weeks\n",
      "Metadata {'pk': 28, 'title': 'Blog Post 4'}\n"
     ]
    }
   ],
   "source": [
    "for node in ranked_response.source_nodes:\n",
    "    print(\"Score\", node.score)\n",
    "    print(\"Contents\", node.node.get_content())\n",
    "    print(\"Metadata\", node.node.metadata)"
   ]
  },
  {
   "cell_type": "code",
   "execution_count": null,
   "id": "d30caca0-e49c-430f-85be-33d09418f571",
   "metadata": {},
   "outputs": [],
   "source": []
  }
 ],
 "metadata": {
  "kernelspec": {
   "display_name": "Python 3 (ipykernel)",
   "language": "python",
   "name": "python3"
  },
  "language_info": {
   "codemirror_mode": {
    "name": "ipython",
    "version": 3
   },
   "file_extension": ".py",
   "mimetype": "text/x-python",
   "name": "python",
   "nbconvert_exporter": "python",
   "pygments_lexer": "ipython3",
   "version": "3.11.11"
  }
 },
 "nbformat": 4,
 "nbformat_minor": 5
}
