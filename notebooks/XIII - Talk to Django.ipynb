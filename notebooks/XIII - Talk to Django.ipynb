{
 "cells": [
  {
   "cell_type": "code",
   "execution_count": 1,
   "id": "6c4130fd-05b8-4ce6-a4f9-900292b03e7c",
   "metadata": {},
   "outputs": [],
   "source": [
    "import setup\n",
    "\n",
    "setup.init_django()"
   ]
  },
  {
   "cell_type": "code",
   "execution_count": 2,
   "id": "b7fe9d04-6e1f-4ee9-9ed7-fa06c7424d0a",
   "metadata": {},
   "outputs": [],
   "source": [
    "from rag import (\n",
    "    db as rag_db, \n",
    "    engines as rag_engines,\n",
    "    settings as rag_settings, \n",
    "    updaters as rag_updaters,\n",
    ")"
   ]
  },
  {
   "cell_type": "code",
   "execution_count": 3,
   "id": "4f863477-596d-4bf1-b665-a2824a804887",
   "metadata": {},
   "outputs": [],
   "source": [
    "from typing import Optional, Union\n",
    "from sqlalchemy import create_engine, text"
   ]
  },
  {
   "cell_type": "code",
   "execution_count": 4,
   "id": "8c05554a-0675-462f-9339-44d50df6ba3c",
   "metadata": {},
   "outputs": [],
   "source": [
    "rag_settings.init()\n",
    "rag_db.init_vector_db()\n",
    "rag_updaters.update_llama_index_documents(use_saved_embeddings=True)"
   ]
  },
  {
   "cell_type": "code",
   "execution_count": 5,
   "id": "8b605788-13e0-475c-a02e-1c78da48edce",
   "metadata": {},
   "outputs": [],
   "source": [
    "vector_index = rag_engines.get_semantic_query_index()\n",
    "semantic_query_retriever = rag_engines.get_semantic_query_retriever_engine()\n",
    "sql_query_engine = rag_engines.get_sql_query_engine()"
   ]
  },
  {
   "cell_type": "code",
   "execution_count": 6,
   "id": "0f0c786e-c12f-4018-a332-3048585af094",
   "metadata": {},
   "outputs": [
    {
     "name": "stdout",
     "output_type": "stream",
     "text": [
      "vector_db blogpost\n"
     ]
    }
   ],
   "source": [
    "print(rag_settings.VECTOR_DB_NAME, rag_settings.VECTOR_DB_TABLE_NAME)"
   ]
  },
  {
   "cell_type": "code",
   "execution_count": 7,
   "id": "979e9160-5fa5-4351-89fc-774b668135e0",
   "metadata": {},
   "outputs": [],
   "source": [
    "from llama_index.core.tools import QueryEngineTool\n",
    "\n",
    "vector_tool = QueryEngineTool.from_defaults(\n",
    "    query_engine=semantic_query_retriever,\n",
    "    description=(\n",
    "        f\"Useful for answering semantic questions about different blog posts\"\n",
    "    ),\n",
    ")"
   ]
  },
  {
   "cell_type": "code",
   "execution_count": 8,
   "id": "4f5994f6-593f-49cc-bb0f-57bbc80393c5",
   "metadata": {},
   "outputs": [],
   "source": [
    "sql_tool = QueryEngineTool.from_defaults(\n",
    "    query_engine=sql_query_engine,\n",
    "    description=(\n",
    "        \"Useful for translating a natural language query into a SQL query over\"\n",
    "        \" a table containing: blog posts and page views each blog post\"\n",
    "    ),\n",
    ")"
   ]
  },
  {
   "cell_type": "code",
   "execution_count": 18,
   "id": "7e140f32-5dc5-4a12-93e8-96fe06be1274",
   "metadata": {},
   "outputs": [],
   "source": [
    "from typing import Any, Optional, Union\n",
    "\n",
    "# Import necessary classes from llama_index\n",
    "from llama_index.core.llms import LLM\n",
    "from llama_index.core.prompts import BasePromptTemplate\n",
    "from llama_index.core.callbacks import CallbackManager\n",
    "from llama_index.core.selectors import LLMSingleSelector, PydanticSingleSelector\n",
    "from llama_index.core.query_engine import SQLAutoVectorQueryEngine, RetrieverQueryEngine\n",
    "from llama_index.core.query_engine.sql_vector_query_engine import *\n",
    "\n",
    "class MySQLAutoVectorQueryEngine(SQLAutoVectorQueryEngine):\n",
    "    def __init__(\n",
    "        self,\n",
    "        sql_query_tool: QueryEngineTool,\n",
    "        vector_query_tool: QueryEngineTool,\n",
    "        selector: Optional[Union[LLMSingleSelector, PydanticSingleSelector]] = None,\n",
    "        llm: Optional[LLM] = None,\n",
    "        sql_vector_synthesis_prompt: Optional[BasePromptTemplate] = None,\n",
    "        sql_augment_query_transform: Optional[SQLAugmentQueryTransform] = None,\n",
    "        use_sql_vector_synthesis: bool = True,\n",
    "        callback_manager: Optional[CallbackManager] = None,\n",
    "        verbose: bool = True,\n",
    "    ) -> None:\n",
    "        \"\"\"Initialize params.\"\"\"\n",
    "        # Get the SQL vector synthesis prompt\n",
    "        sql_vector_synthesis_prompt = (\n",
    "            sql_vector_synthesis_prompt or DEFAULT_SQL_VECTOR_SYNTHESIS_PROMPT\n",
    "        )\n",
    "        \n",
    "        # Initialize using SQLJoinQueryEngine's parameters\n",
    "        SQLJoinQueryEngine.__init__(\n",
    "            self,\n",
    "            sql_query_tool=sql_query_tool,\n",
    "            other_query_tool=vector_query_tool,  # This is the key change!\n",
    "            selector=selector,\n",
    "            llm=llm,\n",
    "            sql_join_synthesis_prompt=sql_vector_synthesis_prompt,\n",
    "            sql_augment_query_transform=sql_augment_query_transform,\n",
    "            use_sql_join_synthesis=use_sql_vector_synthesis,\n",
    "            callback_manager=callback_manager,\n",
    "            verbose=verbose\n",
    "        )"
   ]
  },
  {
   "cell_type": "code",
   "execution_count": 19,
   "id": "dfba78c0-e2a5-4af9-9621-97d0a2e0b833",
   "metadata": {},
   "outputs": [],
   "source": [
    "query_engine = MySQLAutoVectorQueryEngine(\n",
    "    sql_tool, \n",
    "    vector_tool,\n",
    ")"
   ]
  },
  {
   "cell_type": "code",
   "execution_count": 21,
   "id": "f041a91b-a68e-4cde-a92a-4cbcff74a1aa",
   "metadata": {},
   "outputs": [
    {
     "name": "stdout",
     "output_type": "stream",
     "text": [
      "\u001b[1;3;34mQuerying other query engine: The question 'What kind of org is discussed?' is semantic in nature and likely refers to the content of different blog posts, making choice (2) more relevant.\n",
      "\u001b[0m"
     ]
    }
   ],
   "source": [
    "response = query_engine.query(\n",
    "    \"What kind of org is discussed?\"\n",
    ")"
   ]
  },
  {
   "cell_type": "code",
   "execution_count": 22,
   "id": "cdcb1f9a-d8ea-4bb9-aab8-2f0979c15443",
   "metadata": {},
   "outputs": [
    {
     "data": {
      "text/plain": [
       "'The kind of org discussed is one that is organized, with systems, charts, and boxes, and requires approval for changes. It is contrasted with a more adaptable and resilient organism that constantly changes and adapts to its environment.'"
      ]
     },
     "execution_count": 22,
     "metadata": {},
     "output_type": "execute_result"
    }
   ],
   "source": [
    "response.response"
   ]
  },
  {
   "cell_type": "code",
   "execution_count": 24,
   "id": "8e3d28c1-bc2f-44e5-9ca4-7c6392c43351",
   "metadata": {},
   "outputs": [
    {
     "name": "stdout",
     "output_type": "stream",
     "text": [
      "\u001b[1;3;34mQuerying SQL database: This choice is most relevant because it mentions translating a query into a SQL query over a table containing blog posts and page views, which is necessary to determine the top 5 most viewed blog posts.\n",
      "\u001b[1;3;33mSQL query: SELECT\n",
      "    db.id,\n",
      "    db.title,\n",
      "    db.content,\n",
      "    COUNT(ap.id) AS view_count\n",
      "FROM\n",
      "    data_blogpost db\n",
      "JOIN\n",
      "    analytics_pageview ap ON db.id = ap.post_id\n",
      "GROUP BY\n",
      "    db.id\n",
      "ORDER BY\n",
      "    view_count DESC\n",
      "LIMIT 5;\n",
      "\u001b[0m\u001b[1;3;33mSQL response: Based on the query results, the top 5 most viewed blog posts are:\n",
      "\n",
      "1. **\"Blog Post 1\"** with 3,208 views.\n",
      "   - Keywords: Harry, Here, before, you\n",
      "\n",
      "2. **\"Blog Post 2\"** with 2,201 views.\n",
      "   - Keywords: You, Here, before, Harry\n",
      "\n",
      "3. **\"Blog Post 3\"** with 1,761 views.\n",
      "   - Keywords: Harry, Was, not, Here\n",
      "\n",
      "4. **\"What kind of org?\"** with 1,235 views.\n",
      "   - Keywords: organization, systems, charts, boxes, organism, changes\n",
      "\n",
      "5. **\"Taking it very seriously\"** with 1,125 views.\n",
      "   - Keywords: April first, greeting, New Year’s, date, Happy, internet, smile, apocalypse\n",
      "\n",
      "These keywords are derived directly from the content of each blog post.\n",
      "\u001b[1;3;34mTransformed query given SQL response: Based on the SQL response, the original question \"What are the top 5 most viewed blog posts? What keywords do their content have?\" has been fully answered. The response provides the titles of the top 5 most viewed blog posts along with their view counts and keywords derived from their content. Therefore, no additional specific question is needed.\n",
      "\n",
      "New question: None\n",
      "\u001b[1;3;38;5;200mquery engine response: The top 5 most viewed blog posts are:\n",
      "\n",
      "1. \"Communicating online (the big leaps)\"\n",
      "2. \"Acknowledgments 2020\"\n",
      "3. \"More information is a competitive advantage, but it’s not enough\"\n",
      "4. \"And now, what’s next?\"\n",
      "5. \"But what could you learn instead?\"\n",
      "\n",
      "Some of the keywords derived from their content are:\n",
      "\n",
      "1. \"Communicating online (the big leaps)\": Attention, spam, permission, asynchronous, synchronous, conversation, anonymous.\n",
      "2. \"Acknowledgments 2020\": Gratitude, healthcare workers, frontline workers, Zoom, entrepreneurs, teachers, community.\n",
      "3. \"More information is a competitive advantage, but it’s not enough\": Domain knowledge, judgment, competitive advantage, learning.\n",
      "4. \"And now, what’s next?\": Contribution, learning, possibility, connection, leadership, opportunity.\n",
      "5. \"But what could you learn instead?\": Education, learning, creativity, art, culture, change, mastery.\n",
      "\u001b[0m"
     ]
    }
   ],
   "source": [
    "response = query_engine.query(\n",
    "    \"Are are the top 5 most viewed blog posts? What keywords do their content have?\"\n",
    ")"
   ]
  },
  {
   "cell_type": "code",
   "execution_count": 25,
   "id": "8fee993b-64ac-490f-8d43-7738b4d8e5c3",
   "metadata": {},
   "outputs": [
    {
     "data": {
      "text/markdown": [
       "Based on the provided information, here's a synthesized response to the original question:\n",
       "\n",
       "The top 5 most viewed blog posts are:\n",
       "\n",
       "1. **\"Blog Post 1\"** with 3,208 views.\n",
       "   - Keywords: Harry, Here, before, you\n",
       "\n",
       "2. **\"Blog Post 2\"** with 2,201 views.\n",
       "   - Keywords: You, Here, before, Harry\n",
       "\n",
       "3. **\"Blog Post 3\"** with 1,761 views.\n",
       "   - Keywords: Harry, Was, not, Here\n",
       "\n",
       "4. **\"What kind of org?\"** with 1,235 views.\n",
       "   - Keywords: organization, systems, charts, boxes, organism, changes\n",
       "\n",
       "5. **\"Taking it very seriously\"** with 1,125 views.\n",
       "   - Keywords: April first, greeting, New Year’s, date, Happy, internet, smile, apocalypse\n",
       "\n",
       "Additionally, considering the vector store response, here are some more blog posts and their keywords:\n",
       "\n",
       "1. **\"Communicating online (the big leaps)\"**\n",
       "   - Keywords: Attention, spam, permission, asynchronous, synchronous, conversation, anonymous.\n",
       "\n",
       "2. **\"Acknowledgments 2020\"**\n",
       "   - Keywords: Gratitude, healthcare workers, frontline workers, Zoom, entrepreneurs, teachers, community.\n",
       "\n",
       "3. **\"More information is a competitive advantage, but it’s not enough\"**\n",
       "   - Keywords: Domain knowledge, judgment, competitive advantage, learning.\n",
       "\n",
       "4. **\"And now, what’s next?\"**\n",
       "   - Keywords: Contribution, learning, possibility, connection, leadership, opportunity.\n",
       "\n",
       "5. **\"But what could you learn instead?\"**\n",
       "   - Keywords: Education, learning, creativity, art, culture, change, mastery.\n",
       "\n",
       "These keywords are derived directly from the content of each blog post and provide insight into the topics covered in each of the top viewed posts."
      ],
      "text/plain": [
       "<IPython.core.display.Markdown object>"
      ]
     },
     "metadata": {},
     "output_type": "display_data"
    }
   ],
   "source": [
    "from IPython.display import Markdown, display\n",
    "\n",
    "display(Markdown(response.response))"
   ]
  },
  {
   "cell_type": "code",
   "execution_count": 26,
   "id": "b2da7b05-a854-4b28-ba83-f6b0e2d14449",
   "metadata": {},
   "outputs": [
    {
     "name": "stdout",
     "output_type": "stream",
     "text": [
      "\u001b[1;3;34mQuerying SQL database: This choice is relevant because it mentions translating a natural language query into a SQL query over a table containing blog posts and page views, which is necessary to determine the top 5 least viewed blog posts from today.\n",
      "\u001b[1;3;33mSQL query: SELECT\n",
      "    db.id,\n",
      "    db.title,\n",
      "    COUNT(ap.id) AS view_count\n",
      "FROM\n",
      "    data_blogpost db\n",
      "LEFT JOIN\n",
      "    analytics_pageview ap ON db.id = ap.post_id\n",
      "WHERE\n",
      "    ap.timestamp >= CURRENT_DATE\n",
      "GROUP BY\n",
      "    db.id, db.title\n",
      "ORDER BY\n",
      "    view_count ASC\n",
      "LIMIT 5;\n",
      "\u001b[0m\u001b[1;3;33mSQL response: Based on the SQL response, there are no blog posts viewed today. Therefore, I cannot provide a list of the top 5 least viewed blog posts. It appears that either there have been no views on any blog posts today, or there are no blog posts available for viewing.\n",
      "\u001b[1;3;34mTransformed query given SQL response: Are there any blog posts available for viewing today?\n",
      "\u001b[1;3;38;5;200mquery engine response: Yes, there are several blog posts available for viewing. Here are some topics covered:\n",
      "\n",
      "- The advantages and disadvantages of using bulletins versus bulletin boards for communicating updates.\n",
      "- Acknowledgments of various individuals and groups for their efforts and support.\n",
      "- The key differences between communicating online and in the real world.\n",
      "- The importance of good judgment and thoughtful points of view in addition to domain knowledge.\n",
      "- The spread of panic and calm, and how to cultivate calm in various environments.\n",
      "Based on the information provided, here's a synthesized response to the original question:\n",
      "\n",
      "\"Currently, there are no viewed blog posts today, so I cannot list the top 5 least viewed blog posts. However, I can confirm that there are several blog posts available for viewing today. Some of the topics covered include:\n",
      "\n",
      "- The advantages and disadvantages of using bulletins versus bulletin boards for communicating updates.\n",
      "- Acknowledgments of various individuals and groups for their efforts and support.\n",
      "- The key differences between communicating online and in the real world.\n",
      "- The importance of good judgment and thoughtful points of view in addition to domain knowledge.\n",
      "- The spread of panic and calm, and how to cultivate calm in various environments.\n",
      "\n",
      "Since there are blog posts available, it seems that the lack of data in the SQL response is due to no views on any blog posts today.\"\n"
     ]
    }
   ],
   "source": [
    "response = query_engine.query(\n",
    "    \"What are the top 5 least viewed blog posts from today?\"\n",
    ")\n",
    "print(response.response)"
   ]
  },
  {
   "cell_type": "code",
   "execution_count": 27,
   "id": "a77e6a4c-728b-43b7-8467-dfdfa0359765",
   "metadata": {},
   "outputs": [
    {
     "data": {
      "text/markdown": [
       "Based on the information provided, here's a synthesized response to the original question:\n",
       "\n",
       "\"Currently, there are no viewed blog posts today, so I cannot list the top 5 least viewed blog posts. However, I can confirm that there are several blog posts available for viewing today. Some of the topics covered include:\n",
       "\n",
       "- The advantages and disadvantages of using bulletins versus bulletin boards for communicating updates.\n",
       "- Acknowledgments of various individuals and groups for their efforts and support.\n",
       "- The key differences between communicating online and in the real world.\n",
       "- The importance of good judgment and thoughtful points of view in addition to domain knowledge.\n",
       "- The spread of panic and calm, and how to cultivate calm in various environments.\n",
       "\n",
       "Since there are blog posts available, it seems that the lack of data in the SQL response is due to no views on any blog posts today.\""
      ],
      "text/plain": [
       "<IPython.core.display.Markdown object>"
      ]
     },
     "metadata": {},
     "output_type": "display_data"
    }
   ],
   "source": [
    "display(Markdown(response.response))"
   ]
  },
  {
   "cell_type": "code",
   "execution_count": null,
   "id": "4f75229b-ef43-412c-995c-bb6e211a306f",
   "metadata": {},
   "outputs": [],
   "source": []
  }
 ],
 "metadata": {
  "kernelspec": {
   "display_name": "Python 3 (ipykernel)",
   "language": "python",
   "name": "python3"
  },
  "language_info": {
   "codemirror_mode": {
    "name": "ipython",
    "version": 3
   },
   "file_extension": ".py",
   "mimetype": "text/x-python",
   "name": "python",
   "nbconvert_exporter": "python",
   "pygments_lexer": "ipython3",
   "version": "3.11.11"
  }
 },
 "nbformat": 4,
 "nbformat_minor": 5
}
