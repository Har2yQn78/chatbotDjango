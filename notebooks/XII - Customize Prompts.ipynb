{
 "cells": [
  {
   "cell_type": "code",
   "execution_count": 3,
   "id": "46c57885-6dfb-4c38-adef-8d1047805aa0",
   "metadata": {},
   "outputs": [],
   "source": [
    "import setup\n",
    "\n",
    "setup.init_django()"
   ]
  },
  {
   "cell_type": "code",
   "execution_count": 4,
   "id": "74edf34f-a94c-49d6-bf8c-a7de9eca88c4",
   "metadata": {},
   "outputs": [],
   "source": [
    "from decouple import config, AutoConfig\n",
    "config = AutoConfig(search_path=\"/home/harry/chatbotDjango\") "
   ]
  },
  {
   "cell_type": "code",
   "execution_count": 5,
   "id": "7d5c849f-15a3-4caf-81f1-84be2921a4d0",
   "metadata": {},
   "outputs": [],
   "source": [
    "from rag import db as rag_db, settings as rag_settings, engines as rag_engines"
   ]
  },
  {
   "cell_type": "code",
   "execution_count": 6,
   "id": "805f3d1d-4618-4312-8461-e0b223630970",
   "metadata": {},
   "outputs": [],
   "source": [
    "rag_settings.init()\n",
    "semantic_query_engine = rag_engines.get_semantic_query_engine()\n",
    "sql_query_engine = rag_engines.get_sql_query_engine(sql_only=True)"
   ]
  },
  {
   "cell_type": "code",
   "execution_count": 7,
   "id": "2235fca6-e793-4f63-93ef-032f2c9c16c8",
   "metadata": {},
   "outputs": [],
   "source": [
    "print_default_prompts = True"
   ]
  },
  {
   "cell_type": "code",
   "execution_count": 8,
   "id": "1e4ffeb0-a900-4617-b214-fa145c92a4ac",
   "metadata": {},
   "outputs": [
    {
     "name": "stdout",
     "output_type": "stream",
     "text": [
      "Given an input question, synthesize a response from the query results.\n",
      "Query: {query_str}\n",
      "SQL: {sql_query}\n",
      "SQL Response: {context_str}\n",
      "Response: \n",
      "\n"
     ]
    }
   ],
   "source": [
    "prompts_dict = sql_query_engine.get_prompts()\n",
    "\n",
    "if print_default_prompts:\n",
    "    print(prompts_dict['response_synthesis_prompt'].template)"
   ]
  },
  {
   "cell_type": "code",
   "execution_count": 9,
   "id": "1c6c0fc2-3ca5-4a2e-8a61-0580178988f3",
   "metadata": {},
   "outputs": [
    {
     "name": "stdout",
     "output_type": "stream",
     "text": [
      "Given an input question, create a precise {dialect} PostgreSQL query to answer it. Follow these guidelines:\n",
      "\n",
      "1. Use only tables and columns from the provided schema.\n",
      "2. Select only relevant columns, never all columns.\n",
      "3. Qualify column names with table names when necessary.\n",
      "4. Use appropriate JOINs, WHERE clauses, and aggregations.\n",
      "5. Order results to highlight the most pertinent information.\n",
      "6. Avoid querying non-existent columns or tables.\n",
      "7. Optimize the query for performance where possible.\n",
      "\n",
      "Your response should contain only the SQL query, without any additional explanation or formatting. Do not use markdown or prepend the query with the term `sql`.\n",
      "\n",
      "Schema:\n",
      "{schema}\n",
      "\n",
      "Question: {query_str}\n",
      "SQL Query:\n",
      "\n"
     ]
    }
   ],
   "source": [
    "if print_default_prompts:\n",
    "    print(sql_query_engine.sql_retriever.get_prompts()['text_to_sql_prompt'].template)"
   ]
  },
  {
   "cell_type": "code",
   "execution_count": 10,
   "id": "4b5b3594-1fcd-4b33-ba05-b69dbb3d6ce3",
   "metadata": {},
   "outputs": [],
   "source": [
    "from llama_index.core import PromptTemplate"
   ]
  },
  {
   "cell_type": "code",
   "execution_count": 11,
   "id": "37ded4d8-633e-45fb-817d-13c150f7c1fa",
   "metadata": {},
   "outputs": [],
   "source": [
    "custom_sql_prompt = PromptTemplate(\"\"\"Given an input question, create a precise {dialect} PostgreSQL query to answer it. Follow these guidelines:\n",
    "\n",
    "1. Use only tables and columns from the provided schema.\n",
    "2. Select only relevant columns, never all columns.\n",
    "3. Qualify column names with table names when necessary.\n",
    "4. Use appropriate JOINs, WHERE clauses, and aggregations.\n",
    "5. Order results to highlight the most pertinent information.\n",
    "6. Avoid querying non-existent columns or tables.\n",
    "7. Optimize the query for performance where possible.\n",
    "\n",
    "Your response should contain only the SQL query, without any additional explanation or formatting. Do not use markdown or prepend the query with the term `sql`.\n",
    "\n",
    "Schema:\n",
    "{schema}\n",
    "\n",
    "Question: {query_str}\n",
    "SQL Query:\n",
    "\"\"\")"
   ]
  },
  {
   "cell_type": "code",
   "execution_count": 12,
   "id": "f76a1336-f736-444b-8e55-4d7db0057371",
   "metadata": {},
   "outputs": [],
   "source": [
    "custom_response_synthesis_prompt = PromptTemplate(\"\"\"Given an input question, synthesize a response from the query results.\n",
    "Query: {query_str}\n",
    "SQL: {sql_query}\n",
    "SQL Response: {context_str}\n",
    "Response: \n",
    "\"\"\")"
   ]
  },
  {
   "cell_type": "code",
   "execution_count": 13,
   "id": "61c8aa3e-19f3-4e97-8779-0bc03b7c4a18",
   "metadata": {},
   "outputs": [
    {
     "data": {
      "text/plain": [
       "['query_str', 'sql_query', 'context_str']"
      ]
     },
     "execution_count": 13,
     "metadata": {},
     "output_type": "execute_result"
    }
   ],
   "source": [
    "custom_response_synthesis_prompt.template_vars"
   ]
  },
  {
   "cell_type": "code",
   "execution_count": 14,
   "id": "6b3846e7-5473-47a9-b93f-7713184c255c",
   "metadata": {},
   "outputs": [],
   "source": [
    "sql_query_engine = rag_engines.get_sql_query_engine(\n",
    "    sql_only=False,\n",
    "    synthesize_response=True\n",
    ")"
   ]
  },
  {
   "cell_type": "code",
   "execution_count": 15,
   "id": "351367d2-ad96-4737-a88d-88cd61c40526",
   "metadata": {},
   "outputs": [
    {
     "name": "stdout",
     "output_type": "stream",
     "text": [
      "Given an input question, create a precise {dialect} PostgreSQL query to answer it. Follow these guidelines:\n",
      "\n",
      "1. Use only tables and columns from the provided schema.\n",
      "2. Select only relevant columns, never all columns.\n",
      "3. Qualify column names with table names when necessary.\n",
      "4. Use appropriate JOINs, WHERE clauses, and aggregations.\n",
      "5. Order results to highlight the most pertinent information.\n",
      "6. Avoid querying non-existent columns or tables.\n",
      "7. Optimize the query for performance where possible.\n",
      "\n",
      "Your response should contain only the SQL query, without any additional explanation or formatting. Do not use markdown or prepend the query with the term `sql`.\n",
      "\n",
      "Schema:\n",
      "{schema}\n",
      "\n",
      "Question: {query_str}\n",
      "SQL Query:\n",
      "\n"
     ]
    }
   ],
   "source": [
    "print(sql_query_engine.sql_retriever.get_prompts()['text_to_sql_prompt'].template)"
   ]
  },
  {
   "cell_type": "code",
   "execution_count": 18,
   "id": "2a288af4-f4f1-459f-abd0-37961d8ae795",
   "metadata": {},
   "outputs": [
    {
     "name": "stdout",
     "output_type": "stream",
     "text": [
      "The blog post with the least views today is \"Blog Post 4\" with 540 views.\n"
     ]
    }
   ],
   "source": [
    "response = sql_query_engine.query(\"What blog post has the least views from today?\")\n",
    "print(str(response))"
   ]
  },
  {
   "cell_type": "code",
   "execution_count": 19,
   "id": "f73697e4-f9b8-45e5-a5ee-d7624952f1cf",
   "metadata": {},
   "outputs": [
    {
     "name": "stdout",
     "output_type": "stream",
     "text": [
      "[(28, 'Blog Post 4', 540)]\n"
     ]
    }
   ],
   "source": [
    "for node in response.source_nodes:\n",
    "    print(node.node.get_content())"
   ]
  },
  {
   "cell_type": "code",
   "execution_count": null,
   "id": "aaecfa55-ee84-4ca3-a131-d32bc0fbcd48",
   "metadata": {},
   "outputs": [],
   "source": []
  }
 ],
 "metadata": {
  "kernelspec": {
   "display_name": "Python 3 (ipykernel)",
   "language": "python",
   "name": "python3"
  },
  "language_info": {
   "codemirror_mode": {
    "name": "ipython",
    "version": 3
   },
   "file_extension": ".py",
   "mimetype": "text/x-python",
   "name": "python",
   "nbconvert_exporter": "python",
   "pygments_lexer": "ipython3",
   "version": "3.11.11"
  }
 },
 "nbformat": 4,
 "nbformat_minor": 5
}
