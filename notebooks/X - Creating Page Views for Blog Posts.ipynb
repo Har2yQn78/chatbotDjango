{
 "cells": [
  {
   "cell_type": "code",
   "execution_count": 8,
   "id": "d9671d22-f753-4178-8512-5c3d145f1a8b",
   "metadata": {},
   "outputs": [],
   "source": [
    "import setup\n",
    "\n",
    "setup.init_django()"
   ]
  },
  {
   "cell_type": "code",
   "execution_count": 9,
   "id": "65fd265e-f057-462b-863e-93d025ee96a7",
   "metadata": {},
   "outputs": [],
   "source": [
    "import random\n",
    "from analytics.models import PageView\n",
    "from data.models import BlogPost"
   ]
  },
  {
   "cell_type": "code",
   "execution_count": 10,
   "id": "15e3f8ae-1801-484f-8eff-df85466d3fbc",
   "metadata": {},
   "outputs": [],
   "source": [
    "qs = BlogPost.objects.filter(can_delete=True)\n",
    "\n",
    "for obj in qs:\n",
    "    rand_views = random.randint(500, 2500)\n",
    "    for x in range(rand_views):\n",
    "        PageView.objects.create(post=obj)"
   ]
  },
  {
   "cell_type": "code",
   "execution_count": null,
   "id": "d383ec43-ed23-4149-ac02-649868a733a8",
   "metadata": {},
   "outputs": [],
   "source": [
    "# PageView.objects.bulk_create()"
   ]
  }
 ],
 "metadata": {
  "kernelspec": {
   "display_name": "Python 3 (ipykernel)",
   "language": "python",
   "name": "python3"
  },
  "language_info": {
   "codemirror_mode": {
    "name": "ipython",
    "version": 3
   },
   "file_extension": ".py",
   "mimetype": "text/x-python",
   "name": "python",
   "nbconvert_exporter": "python",
   "pygments_lexer": "ipython3",
   "version": "3.11.11"
  }
 },
 "nbformat": 4,
 "nbformat_minor": 5
}
