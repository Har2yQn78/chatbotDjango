{
 "cells": [
  {
   "cell_type": "code",
   "execution_count": 14,
   "id": "038dbbfa-8be6-41f5-8c4f-e9f5c904b5a0",
   "metadata": {},
   "outputs": [],
   "source": [
    "import setup\n",
    "import os\n",
    "import numpy as np\n",
    "from decouple import config, AutoConfig\n",
    "config = AutoConfig(search_path=\"/home/harry/chatbotDjango\") \n",
    "\n",
    "setup.init_django()"
   ]
  },
  {
   "cell_type": "code",
   "execution_count": 15,
   "id": "cf90fff0-fa97-4059-a575-56210e9493d6",
   "metadata": {},
   "outputs": [],
   "source": [
    "MISTRAL_API_KEY = config(\"MISTRAL_API_KEY\")"
   ]
  },
  {
   "cell_type": "code",
   "execution_count": 16,
   "id": "34ab6d01-0dbe-4c75-a961-f4910e9db7f5",
   "metadata": {},
   "outputs": [],
   "source": [
    "from mistralai import Mistral\n",
    "\n",
    "model = \"mistral-embed\"\n",
    "\n",
    "client = Mistral(api_key=MISTRAL_API_KEY)"
   ]
  },
  {
   "cell_type": "code",
   "execution_count": 23,
   "id": "f632e171-52e7-469b-91eb-d8d018259d79",
   "metadata": {},
   "outputs": [],
   "source": [
    "def get_embedding(texts, model=model):\n",
    "    if not isinstance(texts, list):\n",
    "        texts = [texts]\n",
    "        single_text = True\n",
    "    else:\n",
    "        single_text = False\n",
    "    cleaned_texts = [t.replace(\"\\n\", \"\").strip() for t in texts]\n",
    "    response = client.embeddings.create(model=model, inputs=cleaned_texts)\n",
    "    embeddings = np.array([entry.embedding for entry in response.data])\n",
    "    return embeddings[0] if single_text else embeddings"
   ]
  },
  {
   "cell_type": "code",
   "execution_count": 24,
   "id": "696f5ae0-e1fe-4b79-8d5c-62db59198ebc",
   "metadata": {},
   "outputs": [],
   "source": [
    "from data.models import BlogPost\n",
    "RECREATE_DATA = True"
   ]
  },
  {
   "cell_type": "code",
   "execution_count": 25,
   "id": "c00c9bfd-8f3d-4191-b466-219d604a6ba3",
   "metadata": {},
   "outputs": [],
   "source": [
    "docs = [\n",
    "    \"Harry Was Here before you\", \n",
    "    \"You Were Here before Harry\",\n",
    "    \"Harry Was not Here\",\n",
    "    \"The new Assassin's Creed game would be release in two weeks\",\n",
    "]"
   ]
  },
  {
   "cell_type": "code",
   "execution_count": 26,
   "id": "22cc45e2-45f5-4096-a0a3-be209772da00",
   "metadata": {},
   "outputs": [],
   "source": [
    "new_data = []\n",
    "for i, x in enumerate(docs):\n",
    "    new_data.append(\n",
    "        BlogPost(title=f\"Blog Post {i+1}\", content=x, can_delete=True)\n",
    "    )\n",
    "\n",
    "if RECREATE_DATA:\n",
    "    qs = BlogPost.objects.filter(can_delete=True)\n",
    "    qs.delete()\n",
    "    BlogPost.objects.bulk_create(new_data)"
   ]
  },
  {
   "cell_type": "code",
   "execution_count": 27,
   "id": "8ff92f09-7d7c-4f5f-b78d-b5d4a46b2003",
   "metadata": {},
   "outputs": [
    {
     "data": {
      "text/plain": [
       "4"
      ]
     },
     "execution_count": 27,
     "metadata": {},
     "output_type": "execute_result"
    }
   ],
   "source": [
    "qs = BlogPost.objects.filter(can_delete=True)\n",
    "qs.count()"
   ]
  },
  {
   "cell_type": "code",
   "execution_count": 29,
   "id": "b1ec3b71-6aa4-4e9b-aad2-39af409a16b0",
   "metadata": {},
   "outputs": [],
   "source": [
    "import time\n",
    "\n",
    "for obj in qs:\n",
    "    if obj.embedding is None:\n",
    "        embedding = get_embedding(obj.get_embedding_text_raw())\n",
    "        obj.embedding = embedding \n",
    "        obj.save()\n",
    "        time.sleep(2)"
   ]
  },
  {
   "cell_type": "code",
   "execution_count": 32,
   "id": "09b4d053-29d6-4cda-89c7-36bb879adcc2",
   "metadata": {},
   "outputs": [],
   "source": [
    "query = \"I bought a new game called Assassin's Creed\"\n",
    "query_embedding = get_embedding(query)"
   ]
  },
  {
   "cell_type": "code",
   "execution_count": 33,
   "id": "5ebd1b31-4f41-4b43-851e-bbb74c9abccc",
   "metadata": {},
   "outputs": [
    {
     "name": "stdout",
     "output_type": "stream",
     "text": [
      "Blog Post 4 0.22786113643550343 77.21388635644966\n",
      "Blog Post 3 0.44179786741732885 55.82021325826712\n"
     ]
    }
   ],
   "source": [
    "from pgvector.django import CosineDistance\n",
    "from django.db.models import F\n",
    "\n",
    "qs = BlogPost.objects.annotate(\n",
    "    distance=CosineDistance('embedding', query_embedding),\n",
    "    similarity=1 - F(\"distance\")\n",
    ").order_by(\"distance\")[:2]\n",
    "\n",
    "for obj in qs:\n",
    "    print(obj.title, obj.distance, obj.similarity * 100)"
   ]
  },
  {
   "cell_type": "code",
   "execution_count": null,
   "id": "da8dc59d-20a7-4738-87e4-1682f2ee5e20",
   "metadata": {},
   "outputs": [],
   "source": []
  }
 ],
 "metadata": {
  "kernelspec": {
   "display_name": "Python 3 (ipykernel)",
   "language": "python",
   "name": "python3"
  },
  "language_info": {
   "codemirror_mode": {
    "name": "ipython",
    "version": 3
   },
   "file_extension": ".py",
   "mimetype": "text/x-python",
   "name": "python",
   "nbconvert_exporter": "python",
   "pygments_lexer": "ipython3",
   "version": "3.11.11"
  }
 },
 "nbformat": 4,
 "nbformat_minor": 5
}
