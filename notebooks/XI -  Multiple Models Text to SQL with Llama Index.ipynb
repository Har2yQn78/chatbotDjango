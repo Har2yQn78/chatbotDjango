{
 "cells": [
  {
   "cell_type": "code",
   "execution_count": 1,
   "id": "25239b61-04c0-44ba-9c3f-422040703283",
   "metadata": {},
   "outputs": [],
   "source": [
    "import setup\n",
    "\n",
    "setup.init_django()"
   ]
  },
  {
   "cell_type": "code",
   "execution_count": 2,
   "id": "dea62368-3e9b-4adf-8c07-7dd7118c2c5a",
   "metadata": {},
   "outputs": [],
   "source": [
    "from decouple import config, AutoConfig\n",
    "config = AutoConfig(search_path=\"/home/harry/chatbotDjango\") "
   ]
  },
  {
   "cell_type": "code",
   "execution_count": 3,
   "id": "4e0badc2-5654-4e6a-a520-73a556039943",
   "metadata": {},
   "outputs": [],
   "source": [
    "from analytics.models import PageView\n",
    "from data.models import BlogPost\n",
    "from rag import db as rag_db, settings as rag_settings"
   ]
  },
  {
   "cell_type": "code",
   "execution_count": 4,
   "id": "07b0155c-ba60-4380-ad6c-2901f72ef85b",
   "metadata": {},
   "outputs": [],
   "source": [
    "from sqlalchemy import (\n",
    "    create_engine,\n",
    "    inspect,\n",
    ")\n",
    "\n",
    "from llama_index.core import SQLDatabase\n",
    "from llama_index.core.query_engine import NLSQLTableQueryEngine\n",
    "from llama_index.core.retrievers import NLSQLRetriever"
   ]
  },
  {
   "cell_type": "code",
   "execution_count": 5,
   "id": "84018d6d-19fc-4344-b5ce-44619d1b1fc0",
   "metadata": {},
   "outputs": [],
   "source": [
    "# initialize default LlamaIndex settings\n",
    "rag_settings.init()\n",
    "# get pooled Neon database string from .env or env vars\n",
    "vector_database_url = rag_db.get_database_url(use_pooling=True)"
   ]
  },
  {
   "cell_type": "code",
   "execution_count": 6,
   "id": "4c150918-39dc-406b-b5bc-60c7cba3a4e1",
   "metadata": {},
   "outputs": [],
   "source": [
    "engine = create_engine(vector_database_url)"
   ]
  },
  {
   "cell_type": "code",
   "execution_count": 7,
   "id": "19fcd178-51e9-4852-960b-99d72f7f0dd8",
   "metadata": {},
   "outputs": [
    {
     "data": {
      "text/plain": [
       "['django_migrations',\n",
       " 'django_content_type',\n",
       " 'auth_permission',\n",
       " 'auth_group',\n",
       " 'auth_group_permissions',\n",
       " 'auth_user_groups',\n",
       " 'auth_user_user_permissions',\n",
       " 'django_admin_log',\n",
       " 'auth_user',\n",
       " 'django_session',\n",
       " 'products_embedding',\n",
       " 'products_product',\n",
       " 'data_blogpost',\n",
       " 'analytics_pageview']"
      ]
     },
     "execution_count": 7,
     "metadata": {},
     "output_type": "execute_result"
    }
   ],
   "source": [
    "inspect(engine).get_table_names()"
   ]
  },
  {
   "cell_type": "code",
   "execution_count": 8,
   "id": "5eb0aecd-acae-45ef-a9fe-49d4dedece5e",
   "metadata": {},
   "outputs": [],
   "source": [
    "tables = []\n",
    "models = [EmployeeRole, Employee, ProductType,\n",
    "     Product, InventoryItem, ProductInventoryRequirement]\n",
    "for model in models:\n",
    "    table = model._meta.db_table\n",
    "    tables.append(table)"
   ]
  },
  {
   "cell_type": "code",
   "execution_count": 9,
   "id": "d0ad24a1-3fcd-456c-888d-e12120858f72",
   "metadata": {},
   "outputs": [
    {
     "data": {
      "text/plain": [
       "['data_blogpost', 'analytics_pageview']"
      ]
     },
     "execution_count": 9,
     "metadata": {},
     "output_type": "execute_result"
    }
   ],
   "source": [
    "tables"
   ]
  },
  {
   "cell_type": "code",
   "execution_count": 10,
   "id": "1ac26782-402d-41af-a5e6-205c800e37a3",
   "metadata": {},
   "outputs": [
    {
     "name": "stderr",
     "output_type": "stream",
     "text": [
      "/home/harry/chatbotDjango/venv/lib/python3.11/site-packages/llama_index/core/utilities/sql_wrapper.py:111: SAWarning: Did not recognize type 'vector' of column 'embedding'\n",
      "  self._metadata.reflect(\n"
     ]
    }
   ],
   "source": [
    "sql_database = SQLDatabase(engine, include_tables=tables)"
   ]
  },
  {
   "cell_type": "code",
   "execution_count": 11,
   "id": "deb20c3d-337c-4269-a0b6-002b63f8548b",
   "metadata": {},
   "outputs": [],
   "source": [
    "sql_query_engine = NLSQLTableQueryEngine(\n",
    "    sql_database=sql_database,\n",
    "    tables=tables,\n",
    ")"
   ]
  },
  {
   "cell_type": "code",
   "execution_count": 12,
   "id": "85d45efd-9134-43cc-96eb-6fbe0594f283",
   "metadata": {},
   "outputs": [
    {
     "name": "stderr",
     "output_type": "stream",
     "text": [
      "/home/harry/chatbotDjango/venv/lib/python3.11/site-packages/llama_index/core/utilities/sql_wrapper.py:168: SAWarning: Did not recognize type 'vector' of column 'embedding'\n",
      "  for column in self._inspector.get_columns(table_name, schema=self._schema):\n"
     ]
    },
    {
     "data": {
      "text/plain": [
       "Response(response='Based on the query results, your most recent blog post ID is 29, which was posted on March 13, 2025, at 09:07:28 UTC.', source_nodes=[NodeWithScore(node=TextNode(id_='de0f7f18-34d6-4e01-a2c2-94d7f47edce5', embedding=None, metadata={'sql_query': 'SELECT id, timestamp\\nFROM data_blogpost\\nORDER BY timestamp DESC\\nLIMIT 1;', 'result': [(29, datetime.datetime(2025, 3, 13, 9, 7, 28, 964667, tzinfo=datetime.timezone.utc))], 'col_keys': ['id', 'timestamp']}, excluded_embed_metadata_keys=['sql_query', 'result', 'col_keys'], excluded_llm_metadata_keys=['sql_query', 'result', 'col_keys'], relationships={}, metadata_template='{key}: {value}', metadata_separator='\\n', text='[(29, datetime.datetime(2025, 3, 13, 9, 7, 28, 964667, tzinfo=datetime.timezone.utc))]', mimetype='text/plain', start_char_idx=None, end_char_idx=None, metadata_seperator='\\n', text_template='{metadata_str}\\n\\n{content}'), score=None)], metadata={'de0f7f18-34d6-4e01-a2c2-94d7f47edce5': {'sql_query': 'SELECT id, timestamp\\nFROM data_blogpost\\nORDER BY timestamp DESC\\nLIMIT 1;', 'result': [(29, datetime.datetime(2025, 3, 13, 9, 7, 28, 964667, tzinfo=datetime.timezone.utc))], 'col_keys': ['id', 'timestamp']}, 'sql_query': 'SELECT id, timestamp\\nFROM data_blogpost\\nORDER BY timestamp DESC\\nLIMIT 1;', 'result': [(29, datetime.datetime(2025, 3, 13, 9, 7, 28, 964667, tzinfo=datetime.timezone.utc))], 'col_keys': ['id', 'timestamp']})"
      ]
     },
     "execution_count": 12,
     "metadata": {},
     "output_type": "execute_result"
    }
   ],
   "source": [
    "response = sql_query_engine.query(\"What is my most recent blog post id?\")\n",
    "response"
   ]
  },
  {
   "cell_type": "code",
   "execution_count": 13,
   "id": "611e3cb5-952f-4c14-8bba-430ed3724f25",
   "metadata": {},
   "outputs": [
    {
     "name": "stdout",
     "output_type": "stream",
     "text": [
      "[(29, datetime.datetime(2025, 3, 13, 9, 7, 28, 964667, tzinfo=datetime.timezone.utc))]\n"
     ]
    }
   ],
   "source": [
    "for node in response.source_nodes:\n",
    "    print(node.node.get_content())"
   ]
  },
  {
   "cell_type": "code",
   "execution_count": 14,
   "id": "67952025-3d7e-460c-9291-151253308331",
   "metadata": {},
   "outputs": [],
   "source": [
    "nl_sql_retriever = NLSQLRetriever(\n",
    "    sql_database, tables=tables, return_raw=True\n",
    ")\n",
    "\n",
    "r = nl_sql_retriever.retrieve(\"What is my least most recent blog post?\")"
   ]
  },
  {
   "cell_type": "code",
   "execution_count": 15,
   "id": "2cd87830-ad08-4d53-a483-6a7e57b7eced",
   "metadata": {},
   "outputs": [
    {
     "name": "stdout",
     "output_type": "stream",
     "text": [
      "[NodeWithScore(node=TextNode(id_='52b993a7-3e61-40d4-a071-ecd9172fc0af', embedding=None, metadata={'sql_query': 'SELECT id, title, timestamp\\nFROM data_blogpost\\nORDER BY timestamp ASC\\nLIMIT 1;', 'result': [(25, 'Blog Post 1', datetime.datetime(2025, 3, 12, 11, 11, 17, 633185, tzinfo=datetime.timezone.utc))], 'col_keys': ['id', 'title', 'timestamp']}, excluded_embed_metadata_keys=['sql_query', 'result', 'col_keys'], excluded_llm_metadata_keys=['sql_query', 'result', 'col_keys'], relationships={}, metadata_template='{key}: {value}', metadata_separator='\\n', text=\"[(25, 'Blog Post 1', datetime.datetime(2025, 3, 12, 11, 11, 17, 633185, tzinfo=datetime.timezone.utc))]\", mimetype='text/plain', start_char_idx=None, end_char_idx=None, metadata_seperator='\\n', text_template='{metadata_str}\\n\\n{content}'), score=None)]\n",
      "Node ID: 52b993a7-3e61-40d4-a071-ecd9172fc0af\n",
      "Text: [(25, 'Blog Post 1', datetime.datetime(2025, 3, 12, 11, 11, 17,\n",
      "633185, tzinfo=datetime.timezone.utc))]\n",
      "Score: None\n",
      "\n",
      "{'sql_query': 'SELECT id, title, timestamp\\nFROM data_blogpost\\nORDER BY timestamp ASC\\nLIMIT 1;', 'result': [(25, 'Blog Post 1', datetime.datetime(2025, 3, 12, 11, 11, 17, 633185, tzinfo=datetime.timezone.utc))], 'col_keys': ['id', 'title', 'timestamp']}\n"
     ]
    }
   ],
   "source": [
    "print(r)\n",
    "for node in r:\n",
    "    print(node)\n",
    "    print(node.metadata)"
   ]
  },
  {
   "cell_type": "code",
   "execution_count": null,
   "id": "f9965ed5-fb10-467a-acff-a02c5b7c97ff",
   "metadata": {},
   "outputs": [],
   "source": []
  }
 ],
 "metadata": {
  "kernelspec": {
   "display_name": "Python 3 (ipykernel)",
   "language": "python",
   "name": "python3"
  },
  "language_info": {
   "codemirror_mode": {
    "name": "ipython",
    "version": 3
   },
   "file_extension": ".py",
   "mimetype": "text/x-python",
   "name": "python",
   "nbconvert_exporter": "python",
   "pygments_lexer": "ipython3",
   "version": "3.11.11"
  }
 },
 "nbformat": 4,
 "nbformat_minor": 5
}
