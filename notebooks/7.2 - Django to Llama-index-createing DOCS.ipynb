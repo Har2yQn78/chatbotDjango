{
 "cells": [
  {
   "cell_type": "code",
   "execution_count": 1,
   "id": "f4ed78f7-5dff-46ac-8651-98e35e4471c9",
   "metadata": {},
   "outputs": [],
   "source": [
    "import setup\n",
    "import os\n",
    "import numpy as np\n",
    "from decouple import config, AutoConfig\n",
    "config = AutoConfig(search_path=\"/home/harry/chatbotDjango\") \n",
    "\n",
    "setup.init_django()"
   ]
  },
  {
   "cell_type": "code",
   "execution_count": 2,
   "id": "8c86d61c-c2d6-48dc-9591-51d8f155305a",
   "metadata": {},
   "outputs": [],
   "source": [
    "from data.models import BlogPost, EMEDDING_LENGTH\n",
    "from data import services"
   ]
  },
  {
   "cell_type": "code",
   "execution_count": 3,
   "id": "5221489a-41e1-4341-9392-1ef6f203f988",
   "metadata": {},
   "outputs": [],
   "source": [
    "# qs = BlogPost.objects.filter(can_delete=True)\n",
    "# qs"
   ]
  },
  {
   "cell_type": "code",
   "execution_count": 4,
   "id": "cb8b8dbf-928a-4446-b340-a6e2828f3e53",
   "metadata": {},
   "outputs": [],
   "source": [
    "from llama_index.llms.mistralai import MistralAI\n",
    "from llama_index.embeddings.mistralai import MistralAIEmbedding"
   ]
  },
  {
   "cell_type": "code",
   "execution_count": 5,
   "id": "8fe2d406-c30a-4481-99d9-767b4923be92",
   "metadata": {},
   "outputs": [],
   "source": [
    "from mistralai import Mistral\n",
    "\n",
    "MISTRAL_API_KEY = config(\"MISTRAL_API_KEY\")\n",
    "\n",
    "EMEDDING_LENGTH=config(\"EMEDDING_LENGTH\", default=1024, cast=int)\n",
    "\n",
    "LLM_CONFIG = {\n",
    "    \"api_key\" : MISTRAL_API_KEY,\n",
    "}\n",
    "\n",
    "EMBED_CONFIG = {\n",
    "    \"api_key\" : MISTRAL_API_KEY,\n",
    "    \"model\" : \"mistral-embed\"\n",
    "}\n",
    "\n",
    "llm = MistralAI(**LLM_CONFIG)\n",
    "embed_model = MistralAIEmbedding(**EMBED_CONFIG)"
   ]
  },
  {
   "cell_type": "code",
   "execution_count": 6,
   "id": "394bcf4c-d57a-413c-9ca4-a73c61cf1834",
   "metadata": {},
   "outputs": [],
   "source": [
    "from llama_index.core import Settings\n",
    "\n",
    "Settings.llm = llm\n",
    "Settings.embed_model = embed_model"
   ]
  },
  {
   "cell_type": "code",
   "execution_count": 7,
   "id": "dba60056-2d72-4d9d-9430-a78a0506ecce",
   "metadata": {},
   "outputs": [],
   "source": [
    "vector_db_name = \"vector_db\"\n",
    "vector_db_table_name = \"blogpost\""
   ]
  },
  {
   "cell_type": "code",
   "execution_count": 8,
   "id": "52327879-03f3-4f3d-ab7e-db715c96200b",
   "metadata": {},
   "outputs": [],
   "source": [
    "from decouple import config, AutoConfig\n",
    "config = AutoConfig(search_path=\"/home/harry/chatbotDjango\") \n",
    "DATABASE_URL = config(\"DATABASE_URL_POOL\")\n",
    "if DATABASE_URL.startswith(\"postgres://\"):\n",
    "    DATABASE_URL = DATABASE_URL.replace(\"postgres://\", \"postgresql://\", 1)"
   ]
  },
  {
   "cell_type": "code",
   "execution_count": 9,
   "id": "0c964a5a-5cda-4799-885a-b5260eb18984",
   "metadata": {},
   "outputs": [],
   "source": [
    "from sqlalchemy import create_engine, text\n",
    "\n",
    "engine = create_engine(DATABASE_URL, isolation_level=\"AUTOCOMMIT\")\n",
    "with engine.connect() as connection:\n",
    "    result = connection.execute(text(\"SELECT 1 FROM pg_database WHERE datname = :db_name\"), {\"db_name\": vector_db_name})\n",
    "    db_exists = result.scalar() == 1\n",
    "    if not db_exists:\n",
    "        session.execute(text('CREATE EXTENSION IF NOT EXISTS vector'))\n",
    "        connection.execute(text(f\"CREATE DATABASE {vector_db_name}\"))"
   ]
  },
  {
   "cell_type": "code",
   "execution_count": 10,
   "id": "7ef8361d-e4a0-4ac1-af7b-18c2f272d68e",
   "metadata": {},
   "outputs": [],
   "source": [
    "from sqlalchemy import make_url\n",
    "from llama_index.vector_stores.postgres import PGVectorStore\n",
    "\n",
    "url = make_url(DATABASE_URL)\n",
    "vector_store = PGVectorStore.from_params(\n",
    "    database=vector_db_name,\n",
    "    host=url.host,\n",
    "    password=url.password,\n",
    "    port=url.port or 5432,\n",
    "    user=url.username,\n",
    "    table_name=vector_db_table_name,\n",
    "    embed_dim=EMEDDING_LENGTH,\n",
    ")"
   ]
  },
  {
   "cell_type": "code",
   "execution_count": 11,
   "id": "df0541da-cf28-47a2-89bd-98391753e130",
   "metadata": {},
   "outputs": [],
   "source": [
    "from llama_index.core import VectorStoreIndex, StorageContext\n",
    "\n",
    "storage_context = StorageContext.from_defaults(vector_store=vector_store)\n",
    "index = VectorStoreIndex.from_vector_store(vector_store, storage_context=storage_context)\n",
    "query_engine = index.as_query_engine()"
   ]
  },
  {
   "cell_type": "code",
   "execution_count": 12,
   "id": "77c0a930-06dd-4e99-90f4-8a699d7991ac",
   "metadata": {},
   "outputs": [
    {
     "data": {
      "text/plain": [
       "[Document(id_='25', embedding=None, metadata={'pk': 25, 'title': 'Blog Post 1'}, excluded_embed_metadata_keys=[], excluded_llm_metadata_keys=[], relationships={}, metadata_template='{key}: {value}', metadata_separator='\\n', text_resource=MediaResource(embeddings=None, data=None, text='Harry Was Here before you', path=None, url=None, mimetype=None), image_resource=None, audio_resource=None, video_resource=None, text_template='{metadata_str}\\n\\n{content}'),\n",
       " Document(id_='26', embedding=None, metadata={'pk': 26, 'title': 'Blog Post 2'}, excluded_embed_metadata_keys=[], excluded_llm_metadata_keys=[], relationships={}, metadata_template='{key}: {value}', metadata_separator='\\n', text_resource=MediaResource(embeddings=None, data=None, text='You Were Here before Harry', path=None, url=None, mimetype=None), image_resource=None, audio_resource=None, video_resource=None, text_template='{metadata_str}\\n\\n{content}'),\n",
       " Document(id_='27', embedding=None, metadata={'pk': 27, 'title': 'Blog Post 3'}, excluded_embed_metadata_keys=[], excluded_llm_metadata_keys=[], relationships={}, metadata_template='{key}: {value}', metadata_separator='\\n', text_resource=MediaResource(embeddings=None, data=None, text='Harry Was not Here', path=None, url=None, mimetype=None), image_resource=None, audio_resource=None, video_resource=None, text_template='{metadata_str}\\n\\n{content}'),\n",
       " Document(id_='28', embedding=None, metadata={'pk': 28, 'title': 'Blog Post 4'}, excluded_embed_metadata_keys=[], excluded_llm_metadata_keys=[], relationships={}, metadata_template='{key}: {value}', metadata_separator='\\n', text_resource=MediaResource(embeddings=None, data=None, text=\"The new Assassin's Creed game would be release in two weeks\", path=None, url=None, mimetype=None), image_resource=None, audio_resource=None, video_resource=None, text_template='{metadata_str}\\n\\n{content}')]"
      ]
     },
     "execution_count": 12,
     "metadata": {},
     "output_type": "execute_result"
    }
   ],
   "source": [
    "from llama_index.core import Document\n",
    "\n",
    "docs = []\n",
    "qs = BlogPost.objects.filter(can_delete=True)\n",
    "for obj in qs:\n",
    "    docs.append(\n",
    "        Document(\n",
    "            text=f\"{obj.get_embedding_text_raw()}\",\n",
    "            doc_id=str(obj.id),\n",
    "            metadata = {\n",
    "                \"pk\": obj.pk,\n",
    "                \"title\": obj.title\n",
    "            }\n",
    "        )\n",
    "    )\n",
    "\n",
    "docs"
   ]
  },
  {
   "cell_type": "code",
   "execution_count": 19,
   "id": "98383b29-03dd-4354-b17a-aefe66ac5dd0",
   "metadata": {},
   "outputs": [],
   "source": [
    "for doc in docs:\n",
    "    index.delete_ref_doc(f\"{doc.id_}\", delete_from_docstore=True)\n",
    "    index.insert(doc)"
   ]
  },
  {
   "cell_type": "code",
   "execution_count": 23,
   "id": "95a78162-238b-44dd-b2d3-d9dde953f835",
   "metadata": {},
   "outputs": [],
   "source": [
    "response = query_engine.query(\"Harry Was\")"
   ]
  },
  {
   "cell_type": "code",
   "execution_count": 24,
   "id": "ea896c4a-4498-43f6-bccd-06b1e07a3775",
   "metadata": {},
   "outputs": [
    {
     "name": "stdout",
     "output_type": "stream",
     "text": [
      "pk 25\n",
      "title Blog Post 1\n",
      "pk 27\n",
      "title Blog Post 3\n"
     ]
    }
   ],
   "source": [
    "for k in response.metadata.keys():\n",
    "    for subk, v in response.metadata[k].items():\n",
    "        print(subk, v)"
   ]
  },
  {
   "cell_type": "code",
   "execution_count": null,
   "id": "b0bef646-7bdb-4b3c-8f2f-13866085f028",
   "metadata": {},
   "outputs": [],
   "source": []
  }
 ],
 "metadata": {
  "kernelspec": {
   "display_name": "Python 3 (ipykernel)",
   "language": "python",
   "name": "python3"
  },
  "language_info": {
   "codemirror_mode": {
    "name": "ipython",
    "version": 3
   },
   "file_extension": ".py",
   "mimetype": "text/x-python",
   "name": "python",
   "nbconvert_exporter": "python",
   "pygments_lexer": "ipython3",
   "version": "3.11.11"
  }
 },
 "nbformat": 4,
 "nbformat_minor": 5
}
