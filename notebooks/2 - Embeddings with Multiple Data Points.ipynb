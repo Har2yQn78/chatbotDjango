{
 "cells": [
  {
   "cell_type": "code",
   "execution_count": 37,
   "id": "188229d5-cf11-405a-810d-cf3bba405fb1",
   "metadata": {},
   "outputs": [],
   "source": [
    "import os\n",
    "import numpy as np\n",
    "from decouple import config, AutoConfig\n",
    "config = AutoConfig(search_path=\"/home/harry/chatbotDjango\") "
   ]
  },
  {
   "cell_type": "code",
   "execution_count": 38,
   "id": "bc3d2b4f-064c-4f37-99d7-8ce5059fcafa",
   "metadata": {},
   "outputs": [],
   "source": [
    "MISTRAL_API_KEY = config(\"MISTRAL_API_KEY\")"
   ]
  },
  {
   "cell_type": "code",
   "execution_count": 39,
   "id": "dbc3e1f5-aada-4500-9df9-f2710a3655b8",
   "metadata": {},
   "outputs": [],
   "source": [
    "from mistralai import Mistral\n",
    "\n",
    "model = \"mistral-embed\"\n",
    "\n",
    "client = Mistral(api_key=MISTRAL_API_KEY)"
   ]
  },
  {
   "cell_type": "code",
   "execution_count": 40,
   "id": "aa7ca124-d188-4fe8-8d49-5562e2703fc3",
   "metadata": {},
   "outputs": [],
   "source": [
    "def get_embedding(text, model=model):\n",
    "    if not isinstance(text, list):\n",
    "        text = [text]\n",
    "    response = client.embeddings.create(model=model, inputs=text)\n",
    "    return np.array([entry.embedding for entry in response.data])"
   ]
  },
  {
   "cell_type": "code",
   "execution_count": 41,
   "id": "7c9a736c-471f-4f0c-97ee-3e80957bcba2",
   "metadata": {},
   "outputs": [],
   "source": [
    "def cosine_similarity(emb1, emb2):\n",
    "    return np.dot(emb1, emb2) / (np.linalg.norm(emb1) * np.linalg.norm(emb2))"
   ]
  },
  {
   "cell_type": "code",
   "execution_count": 42,
   "id": "6fabe3a1-4d1d-442b-bb8d-2d7d06d3d696",
   "metadata": {},
   "outputs": [],
   "source": [
    "data = [1,2,3,4,5,6,7]\n",
    "query = 5.3"
   ]
  },
  {
   "cell_type": "code",
   "execution_count": 52,
   "id": "9eed6305-c89a-43b2-a7a8-b3195e32af4d",
   "metadata": {},
   "outputs": [],
   "source": [
    "docs = [\n",
    "    \"Harry Was Here before you\", \n",
    "    \"You Were Here before Harry\",\n",
    "    \"Harry Was not Here\",\n",
    "    \"The new Assassin's Creed game would be release in two weeks\",\n",
    "]"
   ]
  },
  {
   "cell_type": "code",
   "execution_count": 53,
   "id": "aceab9f7-2d27-4ce7-af54-d1183a872ae1",
   "metadata": {},
   "outputs": [],
   "source": [
    "embeddings = get_embedding(docs)"
   ]
  },
  {
   "cell_type": "code",
   "execution_count": 54,
   "id": "64c836f6-7023-4089-b956-21990742ff3d",
   "metadata": {},
   "outputs": [
    {
     "data": {
      "text/plain": [
       "(4, 1024)"
      ]
     },
     "execution_count": 54,
     "metadata": {},
     "output_type": "execute_result"
    }
   ],
   "source": [
    "embeddings.shape"
   ]
  },
  {
   "cell_type": "code",
   "execution_count": 55,
   "id": "779052f1-eec6-4105-b0ed-0c6c9ba7550a",
   "metadata": {},
   "outputs": [],
   "source": [
    "query = \"Harry Was Here and You Were not\""
   ]
  },
  {
   "cell_type": "code",
   "execution_count": 56,
   "id": "e8b27d0a-be32-41f4-8dd5-db582cf0f471",
   "metadata": {},
   "outputs": [
    {
     "name": "stdout",
     "output_type": "stream",
     "text": [
      "Similarity: 0.9126 | Harry Was not Here\n",
      "Similarity: 0.9010 | Harry Was Here before you\n",
      "Similarity: 0.8604 | You Were Here before Harry\n",
      "Similarity: 0.5051 | The new Assassin's Creed game would be release in two weeks\n"
     ]
    }
   ],
   "source": [
    "query_embedding = get_embedding([query])\n",
    "similarities = [cosine_similarity(query_embedding[0], doc_embedding) for doc_embedding in embeddings]\n",
    "results = list(zip(similarities, docs))\n",
    "results.sort(reverse=True)\n",
    "\n",
    "for similarity, doc in results:\n",
    "    print(f\"Similarity: {similarity:.4f} | {doc}\")"
   ]
  },
  {
   "cell_type": "code",
   "execution_count": null,
   "id": "8218feca-eabf-4537-b31d-9faaf0e43ac9",
   "metadata": {},
   "outputs": [],
   "source": []
  }
 ],
 "metadata": {
  "kernelspec": {
   "display_name": "Python 3 (ipykernel)",
   "language": "python",
   "name": "python3"
  },
  "language_info": {
   "codemirror_mode": {
    "name": "ipython",
    "version": 3
   },
   "file_extension": ".py",
   "mimetype": "text/x-python",
   "name": "python",
   "nbconvert_exporter": "python",
   "pygments_lexer": "ipython3",
   "version": "3.11.11"
  }
 },
 "nbformat": 4,
 "nbformat_minor": 5
}
