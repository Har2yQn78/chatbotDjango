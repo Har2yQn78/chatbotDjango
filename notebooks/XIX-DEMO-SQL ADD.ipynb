{
 "cells": [
  {
   "cell_type": "code",
   "execution_count": 1,
   "id": "abc78c8f-5754-4744-bdc8-a407936de6f1",
   "metadata": {},
   "outputs": [],
   "source": [
    "import setup\n",
    "\n",
    "setup.init_django()"
   ]
  },
  {
   "cell_type": "code",
   "execution_count": 2,
   "id": "98cd97d0-3b59-48a7-9fc6-28e5342a6992",
   "metadata": {},
   "outputs": [],
   "source": [
    "from rag import (\n",
    "    db as rag_db, \n",
    "    engines as rag_engines,\n",
    "    settings as rag_settings, \n",
    "    updaters as rag_updaters,\n",
    "    patches as rag_patches,\n",
    ")"
   ]
  },
  {
   "cell_type": "code",
   "execution_count": 3,
   "id": "68499f9d-26d0-4cba-bf79-2fcc523abfca",
   "metadata": {},
   "outputs": [],
   "source": [
    "from typing import Optional, Union\n",
    "from sqlalchemy import create_engine, text"
   ]
  },
  {
   "cell_type": "code",
   "execution_count": 4,
   "id": "4792577b-8017-4eb1-a720-835baa6352fa",
   "metadata": {},
   "outputs": [
    {
     "name": "stdout",
     "output_type": "stream",
     "text": [
      "Vector database 'coffeshop_vector_db' initialized successfully.\n",
      "Syncing 1 docs for EmployeeRole\n"
     ]
    },
    {
     "name": "stderr",
     "output_type": "stream",
     "text": [
      "INFO:httpx:HTTP Request: POST https://api.mistral.ai/v1/embeddings \"HTTP/1.1 200 OK\"\n"
     ]
    },
    {
     "name": "stdout",
     "output_type": "stream",
     "text": [
      "Syncing 1 docs for Employee\n",
      "Syncing 1 docs for ProductType\n",
      "Syncing 1 docs for Product\n",
      "Syncing 1 docs for InventoryItem\n",
      "Syncing 1 docs for ProductInventoryRequirement\n"
     ]
    },
    {
     "name": "stderr",
     "output_type": "stream",
     "text": [
      "INFO:httpx:HTTP Request: POST https://api.mistral.ai/v1/embeddings \"HTTP/1.1 200 OK\"\n"
     ]
    },
    {
     "name": "stdout",
     "output_type": "stream",
     "text": [
      "Sync complete for all specified models.\n"
     ]
    }
   ],
   "source": [
    "import logging\n",
    "logging.basicConfig(level=logging.INFO)\n",
    "\n",
    "rag_settings.init()\n",
    "rag_db.init_vector_db()\n",
    "rag_updaters.update_llama_index_documents(use_saved_embeddings=True)"
   ]
  },
  {
   "cell_type": "code",
   "execution_count": 5,
   "id": "851a5b0a-053d-4d71-acaa-e443c7ef44c1",
   "metadata": {},
   "outputs": [],
   "source": [
    "vector_index = rag_engines.get_semantic_query_index()\n",
    "semantic_query_retriever = rag_engines.get_semantic_query_retriever_engine()\n",
    "sql_query_engine = rag_engines.get_sql_query_engine()"
   ]
  },
  {
   "cell_type": "code",
   "execution_count": 9,
   "id": "c26810b9-aadf-4bfa-846d-34a0b2c0879e",
   "metadata": {},
   "outputs": [
    {
     "name": "stdout",
     "output_type": "stream",
     "text": [
      "coffeshop_vector_db {'EmployeeRole': 'employee_role_vectors', 'Employee': 'employee_vectors', 'ProductType': 'product_type_vectors', 'Product': 'product_vectors', 'InventoryItem': 'inventory_item_vectors', 'ProductInventoryRequirement': 'product_inventory_req_vectors'}\n"
     ]
    }
   ],
   "source": [
    "print(rag_settings.VECTOR_DB_NAME, rag_settings.VECTOR_TABLE_NAMES)"
   ]
  },
  {
   "cell_type": "code",
   "execution_count": 10,
   "id": "327c5299-5c03-443f-b825-74d5ae2a9730",
   "metadata": {},
   "outputs": [],
   "source": [
    "from llama_index.core.tools import QueryEngineTool\n",
    "\n",
    "vector_tool = QueryEngineTool.from_defaults(\n",
    "    query_engine=semantic_query_retriever,\n",
    "    description=(\n",
    "        f\"Useful for answering semantic questions about different blog posts\"\n",
    "    ),\n",
    ")"
   ]
  },
  {
   "cell_type": "code",
   "execution_count": 11,
   "id": "8f500203-7427-4c1c-9a48-55bab331a08b",
   "metadata": {},
   "outputs": [],
   "source": [
    "sql_tool = QueryEngineTool.from_defaults(\n",
    "    query_engine=sql_query_engine,\n",
    "    description=(\n",
    "        \"Useful for translating a natural language query into a SQL query over \"\n",
    "        \"tables containing:EmployeeRole, Employee, ProductType, Product, InventoryItem, ProductInventoryRequirement.\"\n",
    "    ),\n",
    ")"
   ]
  },
  {
   "cell_type": "code",
   "execution_count": 12,
   "id": "bb4dba5e-431f-4e3f-b1e9-601ab17bacd7",
   "metadata": {},
   "outputs": [],
   "source": [
    "query_engine = rag_patches.MySQLAutoVectorQueryEngine(\n",
    "    sql_tool, \n",
    "    vector_tool,\n",
    ")"
   ]
  },
  {
   "cell_type": "code",
   "execution_count": 13,
   "id": "b57e35c1-899e-4a30-ad42-dc98c1d94f1d",
   "metadata": {},
   "outputs": [
    {
     "name": "stderr",
     "output_type": "stream",
     "text": [
      "INFO:httpx:HTTP Request: POST https://api.mistral.ai/v1/chat/completions \"HTTP/1.1 200 OK\"\n",
      "INFO:llama_index.core.query_engine.sql_join_query_engine:> Querying other query engine: The question 'what is americano?' is semantic in nature and likely refers to a type of coffee, which could be the subject of a blog post.\n"
     ]
    },
    {
     "name": "stdout",
     "output_type": "stream",
     "text": [
      "\u001b[1;3;34mQuerying other query engine: The question 'what is americano?' is semantic in nature and likely refers to a type of coffee, which could be the subject of a blog post.\n",
      "\u001b[0m"
     ]
    },
    {
     "name": "stderr",
     "output_type": "stream",
     "text": [
      "INFO:httpx:HTTP Request: POST https://api.mistral.ai/v1/embeddings \"HTTP/1.1 200 OK\"\n",
      "INFO:httpx:HTTP Request: POST https://api.mistral.ai/v1/chat/completions \"HTTP/1.1 200 OK\"\n"
     ]
    }
   ],
   "source": [
    "response = query_engine.query(\n",
    "    \"what is americano?\"\n",
    ")"
   ]
  },
  {
   "cell_type": "code",
   "execution_count": 14,
   "id": "9b3c8059-a3d6-49d9-9e16-8cf09a4f7abd",
   "metadata": {},
   "outputs": [
    {
     "data": {
      "text/plain": [
       "'An americano is something that requires 50.00 grams of Coffe 60/40.'"
      ]
     },
     "execution_count": 14,
     "metadata": {},
     "output_type": "execute_result"
    }
   ],
   "source": [
    "response.response"
   ]
  },
  {
   "cell_type": "code",
   "execution_count": 17,
   "id": "594759fe-aa4f-4a73-ad50-58d4a9e41c36",
   "metadata": {},
   "outputs": [
    {
     "name": "stderr",
     "output_type": "stream",
     "text": [
      "INFO:httpx:HTTP Request: POST https://api.mistral.ai/v1/chat/completions \"HTTP/1.1 200 OK\"\n",
      "INFO:llama_index.core.query_engine.sql_join_query_engine:> Querying SQL database: The question 'Who is the bartender?' implies a query about a specific role, which could be related to an 'EmployeeRole' in a database context.\n",
      "INFO:llama_index.core.indices.struct_store.sql_retriever:> Table desc str: Table 'coffeshop_employeerole' has columns: id (BIGINT), name (VARCHAR(100)), description (TEXT), embedding (VECTOR(1024)), .\n",
      "\n",
      "Table 'coffeshop_employee' has columns: id (BIGINT), name (VARCHAR(200)), hire_date (DATE), hourly_rate (NUMERIC(6, 2)), is_active (BOOLEAN), embedding (VECTOR(1024)), role_id (BIGINT),  and foreign keys: ['role_id'] -> coffeshop_employeerole.['id'].\n",
      "\n",
      "Table 'coffeshop_producttype' has columns: id (BIGINT), name (VARCHAR(100)), description (TEXT), embedding (VECTOR(1024)), .\n",
      "\n",
      "Table 'coffeshop_product' has columns: id (BIGINT), name (VARCHAR(200)), price (NUMERIC(6, 2)), description (TEXT), is_available (BOOLEAN), embedding (VECTOR(1024)), product_type_id (BIGINT),  and foreign keys: ['product_type_id'] -> coffeshop_producttype.['id'].\n",
      "\n",
      "Table 'coffeshop_inventoryitem' has columns: id (BIGINT), name (VARCHAR(200)), unit (VARCHAR(50)), quantity (NUMERIC(10, 2)), reorder_level (NUMERIC(10, 2)), cost_per_unit (NUMERIC(10, 2)), embedding (VECTOR(1024)), .\n",
      "\n",
      "Table 'coffeshop_productinventoryrequirement' has columns: id (BIGINT), quantity_required (NUMERIC(10, 2)), inventory_item_id (BIGINT), product_id (BIGINT), embedding (VECTOR(1024)),  and foreign keys: ['inventory_item_id'] -> coffeshop_inventoryitem.['id'], ['product_id'] -> coffeshop_product.['id'].\n"
     ]
    },
    {
     "name": "stdout",
     "output_type": "stream",
     "text": [
      "\u001b[1;3;34mQuerying SQL database: The question 'Who is the bartender?' implies a query about a specific role, which could be related to an 'EmployeeRole' in a database context.\n",
      "\u001b[0m"
     ]
    },
    {
     "name": "stderr",
     "output_type": "stream",
     "text": [
      "INFO:httpx:HTTP Request: POST https://api.mistral.ai/v1/chat/completions \"HTTP/1.1 200 OK\"\n",
      "INFO:httpx:HTTP Request: POST https://api.mistral.ai/v1/chat/completions \"HTTP/1.1 200 OK\"\n"
     ]
    },
    {
     "name": "stdout",
     "output_type": "stream",
     "text": [
      "\u001b[1;3;33mSQL query: SELECT coffeshop_employee.name\n",
      "FROM coffeshop_employee\n",
      "JOIN coffeshop_employeerole ON coffeshop_employee.role_id = coffeshop_employeerole.id\n",
      "WHERE coffeshop_employeerole.name = 'Bartender' AND coffeshop_employee.is_active = TRUE;\n",
      "\u001b[0m\u001b[1;3;33mSQL response: Based on the query results, there is no active bartender currently listed.\n",
      "\u001b[0m"
     ]
    },
    {
     "name": "stderr",
     "output_type": "stream",
     "text": [
      "INFO:httpx:HTTP Request: POST https://api.mistral.ai/v1/chat/completions \"HTTP/1.1 200 OK\"\n",
      "INFO:llama_index.core.query_engine.sql_join_query_engine:> Transformed query given SQL response: None\n"
     ]
    },
    {
     "name": "stdout",
     "output_type": "stream",
     "text": [
      "\u001b[1;3;34mTransformed query given SQL response: None\n",
      "\u001b[0m"
     ]
    }
   ],
   "source": [
    "response = query_engine.query(\n",
    "    \"Who is the bartender?\"\n",
    ")"
   ]
  },
  {
   "cell_type": "code",
   "execution_count": 18,
   "id": "34933bf9-079f-40f7-afa4-5acc57e03985",
   "metadata": {},
   "outputs": [
    {
     "data": {
      "text/markdown": [
       "Based on the query results, there is no active bartender currently listed."
      ],
      "text/plain": [
       "<IPython.core.display.Markdown object>"
      ]
     },
     "metadata": {},
     "output_type": "display_data"
    }
   ],
   "source": [
    "from IPython.display import Markdown, display\n",
    "\n",
    "display(Markdown(response.response))"
   ]
  },
  {
   "cell_type": "code",
   "execution_count": null,
   "id": "15e48da0-dd8c-48ac-bb95-3a0bc908efa9",
   "metadata": {},
   "outputs": [],
   "source": []
  }
 ],
 "metadata": {
  "kernelspec": {
   "display_name": "Python 3 (ipykernel)",
   "language": "python",
   "name": "python3"
  },
  "language_info": {
   "codemirror_mode": {
    "name": "ipython",
    "version": 3
   },
   "file_extension": ".py",
   "mimetype": "text/x-python",
   "name": "python",
   "nbconvert_exporter": "python",
   "pygments_lexer": "ipython3",
   "version": "3.11.11"
  }
 },
 "nbformat": 4,
 "nbformat_minor": 5
}
