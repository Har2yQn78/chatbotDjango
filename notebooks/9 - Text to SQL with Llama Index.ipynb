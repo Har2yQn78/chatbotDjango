{
 "cells": [
  {
   "cell_type": "code",
   "execution_count": 1,
   "id": "25239b61-04c0-44ba-9c3f-422040703283",
   "metadata": {},
   "outputs": [],
   "source": [
    "import setup\n",
    "\n",
    "setup.init_django()"
   ]
  },
  {
   "cell_type": "code",
   "execution_count": 2,
   "id": "dea62368-3e9b-4adf-8c07-7dd7118c2c5a",
   "metadata": {},
   "outputs": [],
   "source": [
    "from decouple import config, AutoConfig\n",
    "config = AutoConfig(search_path=\"/home/harry/chatbotDjango\") "
   ]
  },
  {
   "cell_type": "code",
   "execution_count": 4,
   "id": "4e0badc2-5654-4e6a-a520-73a556039943",
   "metadata": {},
   "outputs": [],
   "source": [
    "from data.models import BlogPost\n",
    "from coffeshop.models import EmployeeRole, Employee, ProductType, Product, InventoryItem, ProductInventoryRequirement\n",
    "from rag import db as rag_db, settings as rag_settings"
   ]
  },
  {
   "cell_type": "code",
   "execution_count": 5,
   "id": "07b0155c-ba60-4380-ad6c-2901f72ef85b",
   "metadata": {},
   "outputs": [],
   "source": [
    "from sqlalchemy import (\n",
    "    create_engine,\n",
    "    inspect,\n",
    ")\n",
    "\n",
    "from llama_index.core import SQLDatabase\n",
    "from llama_index.core.query_engine import NLSQLTableQueryEngine\n",
    "from llama_index.core.retrievers import NLSQLRetriever"
   ]
  },
  {
   "cell_type": "code",
   "execution_count": 6,
   "id": "84018d6d-19fc-4344-b5ce-44619d1b1fc0",
   "metadata": {},
   "outputs": [],
   "source": [
    "# initialize default LlamaIndex settings\n",
    "rag_settings.init()\n",
    "# get pooled Neon database string from .env or env vars\n",
    "vector_database_url = rag_db.get_database_url(use_pooling=True)"
   ]
  },
  {
   "cell_type": "code",
   "execution_count": 7,
   "id": "4c150918-39dc-406b-b5bc-60c7cba3a4e1",
   "metadata": {},
   "outputs": [],
   "source": [
    "engine = create_engine(vector_database_url)"
   ]
  },
  {
   "cell_type": "code",
   "execution_count": 8,
   "id": "19fcd178-51e9-4852-960b-99d72f7f0dd8",
   "metadata": {},
   "outputs": [
    {
     "data": {
      "text/plain": [
       "['django_migrations',\n",
       " 'django_content_type',\n",
       " 'auth_permission',\n",
       " 'auth_group',\n",
       " 'auth_group_permissions',\n",
       " 'auth_user_groups',\n",
       " 'auth_user_user_permissions',\n",
       " 'django_admin_log',\n",
       " 'auth_user',\n",
       " 'django_session',\n",
       " 'products_embedding',\n",
       " 'products_product',\n",
       " 'data_blogpost',\n",
       " 'analytics_pageview',\n",
       " 'ragui_queryhistory',\n",
       " 'coffeshop_employeerole',\n",
       " 'coffeshop_employee',\n",
       " 'coffeshop_producttype',\n",
       " 'coffeshop_product',\n",
       " 'coffeshop_inventoryitem',\n",
       " 'coffeshop_productinventoryrequirement']"
      ]
     },
     "execution_count": 8,
     "metadata": {},
     "output_type": "execute_result"
    }
   ],
   "source": [
    "inspect(engine).get_table_names()"
   ]
  },
  {
   "cell_type": "code",
   "execution_count": 19,
   "id": "5eb0aecd-acae-45ef-a9fe-49d4dedece5e",
   "metadata": {},
   "outputs": [],
   "source": [
    "tables = []\n",
    "models = [EmployeeRole, Employee, ProductType, Product, InventoryItem, ProductInventoryRequirement]\n",
    "for model in models:\n",
    "    table = model._meta.db_table\n",
    "    tables.append(table)"
   ]
  },
  {
   "cell_type": "code",
   "execution_count": 20,
   "id": "d0ad24a1-3fcd-456c-888d-e12120858f72",
   "metadata": {},
   "outputs": [
    {
     "data": {
      "text/plain": [
       "['coffeshop_employeerole',\n",
       " 'coffeshop_employee',\n",
       " 'coffeshop_producttype',\n",
       " 'coffeshop_product',\n",
       " 'coffeshop_inventoryitem',\n",
       " 'coffeshop_productinventoryrequirement']"
      ]
     },
     "execution_count": 20,
     "metadata": {},
     "output_type": "execute_result"
    }
   ],
   "source": [
    "tables"
   ]
  },
  {
   "cell_type": "code",
   "execution_count": 21,
   "id": "1ac26782-402d-41af-a5e6-205c800e37a3",
   "metadata": {},
   "outputs": [],
   "source": [
    "sql_database = SQLDatabase(engine, include_tables=tables)"
   ]
  },
  {
   "cell_type": "code",
   "execution_count": 22,
   "id": "deb20c3d-337c-4269-a0b6-002b63f8548b",
   "metadata": {},
   "outputs": [],
   "source": [
    "sql_query_engine = NLSQLTableQueryEngine(\n",
    "    sql_database=sql_database,\n",
    "    tables=tables,\n",
    ")"
   ]
  },
  {
   "cell_type": "code",
   "execution_count": 23,
   "id": "85d45efd-9134-43cc-96eb-6fbe0594f283",
   "metadata": {},
   "outputs": [
    {
     "data": {
      "text/plain": [
       "Response(response=\"It seems there was a misunderstanding. The database schema you're querying pertains to a coffee shop and includes information about employees, products, inventory, and roles. It does not contain any data related to blog posts. Therefore, I'm unable to retrieve information about your most recent blog post ID from this database. If you have any questions related to the coffee shop data, feel free to ask!\", source_nodes=[NodeWithScore(node=TextNode(id_='885eee3a-5494-4485-9e04-66f1b1f41390', embedding=None, metadata={}, excluded_embed_metadata_keys=[], excluded_llm_metadata_keys=[], relationships={}, metadata_template='{key}: {value}', metadata_separator='\\n', text='Error: Statement \"I\\'m unable to answer the question as it is not related to the provided database schema. The schema includes information about a coffee shop, such as employees, products, inventory, and roles, but it does not include any information about blog posts. Therefore, I cannot generate a relevant SQL query for this question.\" is invalid SQL.\\nError: syntax error at or near \"I\"\\nLINE 1: I\\'m unable to answer the question as it is not related to th...\\n        ^\\n', mimetype='text/plain', start_char_idx=None, end_char_idx=None, metadata_seperator='\\n', text_template='{metadata_str}\\n\\n{content}'), score=None)], metadata={'885eee3a-5494-4485-9e04-66f1b1f41390': {}, 'sql_query': \"I'm unable to answer the question as it is not related to the provided database schema. The schema includes information about a coffee shop, such as employees, products, inventory, and roles, but it does not include any information about blog posts. Therefore, I cannot generate a relevant SQL query for this question.\"})"
      ]
     },
     "execution_count": 23,
     "metadata": {},
     "output_type": "execute_result"
    }
   ],
   "source": [
    "response = sql_query_engine.query(\"What is my most recent blog post id?\")\n",
    "response"
   ]
  },
  {
   "cell_type": "code",
   "execution_count": 24,
   "id": "611e3cb5-952f-4c14-8bba-430ed3724f25",
   "metadata": {},
   "outputs": [
    {
     "name": "stdout",
     "output_type": "stream",
     "text": [
      "Error: Statement \"I'm unable to answer the question as it is not related to the provided database schema. The schema includes information about a coffee shop, such as employees, products, inventory, and roles, but it does not include any information about blog posts. Therefore, I cannot generate a relevant SQL query for this question.\" is invalid SQL.\n",
      "Error: syntax error at or near \"I\"\n",
      "LINE 1: I'm unable to answer the question as it is not related to th...\n",
      "        ^\n",
      "\n"
     ]
    }
   ],
   "source": [
    "for node in response.source_nodes:\n",
    "    print(node.node.get_content())"
   ]
  },
  {
   "cell_type": "code",
   "execution_count": 25,
   "id": "67952025-3d7e-460c-9291-151253308331",
   "metadata": {},
   "outputs": [],
   "source": [
    "nl_sql_retriever = NLSQLRetriever(\n",
    "    sql_database, tables=tables, return_raw=True\n",
    ")\n",
    "\n",
    "r = nl_sql_retriever.retrieve(\"What is americano?\")"
   ]
  },
  {
   "cell_type": "code",
   "execution_count": 26,
   "id": "2cd87830-ad08-4d53-a483-6a7e57b7eced",
   "metadata": {},
   "outputs": [
    {
     "name": "stdout",
     "output_type": "stream",
     "text": [
      "[NodeWithScore(node=TextNode(id_='7cf8493a-bf71-491a-a102-2cd04cd3d291', embedding=None, metadata={}, excluded_embed_metadata_keys=[], excluded_llm_metadata_keys=[], relationships={}, metadata_template='{key}: {value}', metadata_separator='\\n', text='Error: Statement \\'To determine what an \"americano\" is, we need to check if it is a product type or a product itself. We\\\\\\'ll start by querying the `coffeshop_product` table to see if there is a product named \"americano.\"\\\\n\\\\n\\\\nSELECT coffeshop_product.name, coffeshop_product.description\\\\nFROM coffeshop_product\\\\nWHERE coffeshop_product.name = \\\\\\'americano\\\\\\';\\' is invalid SQL.\\nError: syntax error at or near \"To\"\\nLINE 1: To determine what an \"americano\" is, we need to check if it ...\\n        ^\\n', mimetype='text/plain', start_char_idx=None, end_char_idx=None, metadata_seperator='\\n', text_template='{metadata_str}\\n\\n{content}'), score=None)]\n",
      "Node ID: 7cf8493a-bf71-491a-a102-2cd04cd3d291\n",
      "Text: Error: Statement 'To determine what an \"americano\" is, we need\n",
      "to check if it is a product type or a product itself. We\\'ll start by\n",
      "querying the `coffeshop_product` table to see if there is a product\n",
      "named \"americano.\"\\n\\n\\nSELECT coffeshop_product.name,\n",
      "coffeshop_product.description\\nFROM coffeshop_product\\nWHERE\n",
      "coffeshop_product.name = \\'ame...\n",
      "Score: None\n",
      "\n",
      "{}\n"
     ]
    }
   ],
   "source": [
    "print(r)\n",
    "for node in r:\n",
    "    print(node)\n",
    "    print(node.metadata)"
   ]
  },
  {
   "cell_type": "code",
   "execution_count": null,
   "id": "f9965ed5-fb10-467a-acff-a02c5b7c97ff",
   "metadata": {},
   "outputs": [],
   "source": []
  }
 ],
 "metadata": {
  "kernelspec": {
   "display_name": "Python 3 (ipykernel)",
   "language": "python",
   "name": "python3"
  },
  "language_info": {
   "codemirror_mode": {
    "name": "ipython",
    "version": 3
   },
   "file_extension": ".py",
   "mimetype": "text/x-python",
   "name": "python",
   "nbconvert_exporter": "python",
   "pygments_lexer": "ipython3",
   "version": "3.11.11"
  }
 },
 "nbformat": 4,
 "nbformat_minor": 5
}
