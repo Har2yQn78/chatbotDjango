{
 "cells": [
  {
   "cell_type": "code",
   "execution_count": 1,
   "id": "abc78c8f-5754-4744-bdc8-a407936de6f1",
   "metadata": {},
   "outputs": [],
   "source": [
    "import setup\n",
    "\n",
    "setup.init_django()"
   ]
  },
  {
   "cell_type": "code",
   "execution_count": 2,
   "id": "98cd97d0-3b59-48a7-9fc6-28e5342a6992",
   "metadata": {},
   "outputs": [],
   "source": [
    "from rag import (\n",
    "    db as rag_db,\n",
    "    engines as rag_engines,\n",
    "    settings as rag_settings,\n",
    "    updaters as rag_updaters,\n",
    "    sync as rag_sync, \n",
    "    patches as rag_patches,\n",
    ")\n"
   ]
  },
  {
   "cell_type": "code",
   "execution_count": 3,
   "id": "68499f9d-26d0-4cba-bf79-2fcc523abfca",
   "metadata": {},
   "outputs": [],
   "source": [
    "from typing import Optional, Union\n",
    "from sqlalchemy import create_engine, text"
   ]
  },
  {
   "cell_type": "code",
   "execution_count": null,
   "id": "4792577b-8017-4eb1-a720-835baa6352fa",
   "metadata": {},
   "outputs": [],
   "source": [
    "rag_settings.init()\n",
    "rag_db.init_vector_db()\n",
    "rag_sync.full_sync()"
   ]
  },
  {
   "cell_type": "code",
   "execution_count": 4,
   "id": "851a5b0a-053d-4d71-acaa-e443c7ef44c1",
   "metadata": {},
   "outputs": [],
   "source": [
    "employee_index = rag_engines.get_model_index(\"Employee\")\n",
    "product_index = rag_engines.get_model_index(\"Product\")\n",
    "semantic_query_engine = rag_engines.get_semantic_query_engine(\"Product\")  \n",
    "sql_query_engine = rag_engines.get_sql_query_engine()"
   ]
  },
  {
   "cell_type": "code",
   "execution_count": 5,
   "id": "c26810b9-aadf-4bfa-846d-34a0b2c0879e",
   "metadata": {},
   "outputs": [
    {
     "name": "stdout",
     "output_type": "stream",
     "text": [
      "vector_db ['employeeroles', 'employees', 'producttypes', 'products', 'inventoryitems', 'productinventoryrequirements']\n"
     ]
    }
   ],
   "source": [
    "print(rag_settings.VECTOR_DB_NAME, rag_settings.VECTOR_DB_TABLE_NAMES)"
   ]
  },
  {
   "cell_type": "code",
   "execution_count": 6,
   "id": "327c5299-5c03-443f-b825-74d5ae2a9730",
   "metadata": {},
   "outputs": [],
   "source": [
    "from llama_index.core.tools import QueryEngineTool\n",
    "\n",
    "vector_tool = QueryEngineTool.from_defaults(\n",
    "    query_engine=semantic_query_engine,\n",
    "    description=(\n",
    "        \"Useful for answering semantic questions about coffee shop operations, \"\n",
    "        \"including products, employees, inventory, and recipes\"\n",
    "    ),\n",
    ")\n"
   ]
  },
  {
   "cell_type": "code",
   "execution_count": 7,
   "id": "8f500203-7427-4c1c-9a48-55bab331a08b",
   "metadata": {},
   "outputs": [],
   "source": [
    "sql_tool = QueryEngineTool.from_defaults(\n",
    "    query_engine=sql_query_engine,\n",
    "    description=(\n",
    "        \"Useful for translating a natural language query into a SQL query over \"\n",
    "        \"tables containing:EmployeeRole, Employee, ProductType, Product, InventoryItem, ProductInventoryRequirement.\"\n",
    "    ),\n",
    ")"
   ]
  },
  {
   "cell_type": "code",
   "execution_count": 8,
   "id": "bb4dba5e-431f-4e3f-b1e9-601ab17bacd7",
   "metadata": {},
   "outputs": [],
   "source": [
    "query_engine = rag_patches.MySQLAutoVectorQueryEngine(\n",
    "    sql_tool,\n",
    "    vector_tool,\n",
    ")"
   ]
  },
  {
   "cell_type": "code",
   "execution_count": 9,
   "id": "b57e35c1-899e-4a30-ad42-dc98c1d94f1d",
   "metadata": {},
   "outputs": [
    {
     "name": "stdout",
     "output_type": "stream",
     "text": [
      "\u001b[1;3;34mQuerying other query engine: The question 'how mush is an late?' seems to be related to coffee shop operations, specifically about products (like a 'late' which could be a typo for 'latte').\n",
      "\u001b[0m"
     ]
    }
   ],
   "source": [
    "response = query_engine.query(\n",
    "    \"how mush is an late?\"\n",
    ")"
   ]
  },
  {
   "cell_type": "code",
   "execution_count": 10,
   "id": "9b3c8059-a3d6-49d9-9e16-8cf09a4f7abd",
   "metadata": {},
   "outputs": [
    {
     "data": {
      "text/markdown": [
       "The price is 4.50."
      ],
      "text/plain": [
       "<IPython.core.display.Markdown object>"
      ]
     },
     "metadata": {},
     "output_type": "display_data"
    }
   ],
   "source": [
    "from IPython.display import Markdown, display\n",
    "\n",
    "display(Markdown(response.response))"
   ]
  },
  {
   "cell_type": "code",
   "execution_count": 11,
   "id": "594759fe-aa4f-4a73-ad50-58d4a9e41c36",
   "metadata": {},
   "outputs": [
    {
     "name": "stdout",
     "output_type": "stream",
     "text": [
      "\u001b[1;3;34mQuerying SQL database: The question asks for a list of employees, and choice (1) mentions 'Employee' and 'EmployeeRole,' which are relevant to the query.\n",
      "\u001b[1;3;33mSQL query: SELECT coffeshop_employee.name, coffeshop_employee.hire_date, coffeshop_employee.hourly_rate, coffeshop_employee.is_active, coffeshop_employeerole.name AS role_name\n",
      "FROM coffeshop_employee\n",
      "JOIN coffeshop_employeerole ON coffeshop_employee.role_id = coffeshop_employeerole.id\n",
      "ORDER BY coffeshop_employee.name;\n",
      "\u001b[0m\u001b[1;3;33mSQL response: Here is the list of all employees:\n",
      "\n",
      "1. **David Wilson**\n",
      "   - Hire Date: April 26, 2024\n",
      "   - Hourly Rate: $18.00\n",
      "   - Role: Inventory Specialist\n",
      "   - Status: Active\n",
      "\n",
      "2. **Emily Davis**\n",
      "   - Hire Date: October 17, 2024\n",
      "   - Hourly Rate: $13.50\n",
      "   - Role: Waiter\n",
      "   - Status: Active\n",
      "\n",
      "3. **Harry Smith**\n",
      "   - Hire Date: March 5, 2022\n",
      "   - Hourly Rate: $35.00\n",
      "   - Role: Manager\n",
      "   - Status: Active\n",
      "\n",
      "4. **Jane Smith**\n",
      "   - Hire Date: April 2, 2024\n",
      "   - Hourly Rate: $15.00\n",
      "   - Role: Barista\n",
      "   - Status: Active\n",
      "\n",
      "5. **Jasmine Lee**\n",
      "   - Hire Date: February 26, 2025\n",
      "   - Hourly Rate: $15.00\n",
      "   - Role: Kitchen Staff\n",
      "   - Status: Active\n",
      "\n",
      "6. **John Doe**\n",
      "   - Hire Date: March 26, 2024\n",
      "   - Hourly Rate: $15.00\n",
      "   - Role: Barista\n",
      "   - Status: Active\n",
      "\n",
      "7. **Michael Johnson**\n",
      "   - Hire Date: May 26, 2024\n",
      "   - Hourly Rate: $16.00\n",
      "   - Role: Kitchen Staff\n",
      "   - Status: Active\n",
      "\n",
      "8. **Robert Brown**\n",
      "   - Hire Date: January 7, 2025\n",
      "   - Hourly Rate: $14.00\n",
      "   - Role: Cashier\n",
      "   - Status: Active\n",
      "\u001b[1;3;34mTransformed query given SQL response: None\n",
      "\u001b[0m"
     ]
    }
   ],
   "source": [
    "response = query_engine.query(\n",
    "    \"give me the list of all employee\"\n",
    ")"
   ]
  },
  {
   "cell_type": "code",
   "execution_count": 12,
   "id": "34933bf9-079f-40f7-afa4-5acc57e03985",
   "metadata": {},
   "outputs": [
    {
     "data": {
      "text/markdown": [
       "Here is the list of all employees:\n",
       "\n",
       "1. **David Wilson**\n",
       "   - Hire Date: April 26, 2024\n",
       "   - Hourly Rate: $18.00\n",
       "   - Role: Inventory Specialist\n",
       "   - Status: Active\n",
       "\n",
       "2. **Emily Davis**\n",
       "   - Hire Date: October 17, 2024\n",
       "   - Hourly Rate: $13.50\n",
       "   - Role: Waiter\n",
       "   - Status: Active\n",
       "\n",
       "3. **Harry Smith**\n",
       "   - Hire Date: March 5, 2022\n",
       "   - Hourly Rate: $35.00\n",
       "   - Role: Manager\n",
       "   - Status: Active\n",
       "\n",
       "4. **Jane Smith**\n",
       "   - Hire Date: April 2, 2024\n",
       "   - Hourly Rate: $15.00\n",
       "   - Role: Barista\n",
       "   - Status: Active\n",
       "\n",
       "5. **Jasmine Lee**\n",
       "   - Hire Date: February 26, 2025\n",
       "   - Hourly Rate: $15.00\n",
       "   - Role: Kitchen Staff\n",
       "   - Status: Active\n",
       "\n",
       "6. **John Doe**\n",
       "   - Hire Date: March 26, 2024\n",
       "   - Hourly Rate: $15.00\n",
       "   - Role: Barista\n",
       "   - Status: Active\n",
       "\n",
       "7. **Michael Johnson**\n",
       "   - Hire Date: May 26, 2024\n",
       "   - Hourly Rate: $16.00\n",
       "   - Role: Kitchen Staff\n",
       "   - Status: Active\n",
       "\n",
       "8. **Robert Brown**\n",
       "   - Hire Date: January 7, 2025\n",
       "   - Hourly Rate: $14.00\n",
       "   - Role: Cashier\n",
       "   - Status: Active"
      ],
      "text/plain": [
       "<IPython.core.display.Markdown object>"
      ]
     },
     "metadata": {},
     "output_type": "display_data"
    }
   ],
   "source": [
    "from IPython.display import Markdown, display\n",
    "\n",
    "display(Markdown(response.response))"
   ]
  },
  {
   "cell_type": "code",
   "execution_count": 13,
   "id": "7b854116-6f7b-450d-b074-305b334117d3",
   "metadata": {},
   "outputs": [
    {
     "name": "stdout",
     "output_type": "stream",
     "text": [
      "\u001b[1;3;34mQuerying SQL database: The query 'لیست تمام کارکنان' translates to 'list all employees,' which is relevant to translating a natural language query into a SQL query over tables containing EmployeeRole and Employee.\n",
      "\u001b[1;3;33mSQL query: SELECT\n",
      "    coffeshop_employee.id,\n",
      "    coffeshop_employee.name,\n",
      "    coffeshop_employee.hire_date,\n",
      "    coffeshop_employee.hourly_rate,\n",
      "    coffeshop_employee.is_active,\n",
      "    coffeshop_employeerole.name AS role_name\n",
      "FROM\n",
      "    coffeshop_employee\n",
      "JOIN\n",
      "    coffeshop_employeerole\n",
      "ON\n",
      "    coffeshop_employee.role_id = coffeshop_employeerole.id\n",
      "ORDER BY\n",
      "    coffeshop_employee.name;\n",
      "\u001b[0m\u001b[1;3;33mSQL response: لیست تمام کارکنان کافی شاپ به شرح زیر است:\n",
      "\n",
      "1. **David Wilson**\n",
      "   - شناسه: 12\n",
      "   - تاریخ استخدام: 2024-04-26\n",
      "   - حقوق ساعتی: 18.00\n",
      "   - وضعیت: فعال\n",
      "   - نقش: Inventory Specialist\n",
      "\n",
      "2. **Emily Davis**\n",
      "   - شناسه: 9\n",
      "   - تاریخ استخدام: 2024-10-17\n",
      "   - حقوق ساعتی: 13.50\n",
      "   - وضعیت: فعال\n",
      "   - نقش: Waiter\n",
      "\n",
      "3. **Harry Smith**\n",
      "   - شناسه: 5\n",
      "   - تاریخ استخدام: 2022-03-05\n",
      "   - حقوق ساعتی: 35.00\n",
      "   - وضعیت: فعال\n",
      "   - نقش: Manager\n",
      "\n",
      "4. **Jane Smith**\n",
      "   - شناسه: 7\n",
      "   - تاریخ استخدام: 2024-04-02\n",
      "   - حقوق ساعتی: 15.00\n",
      "   - وضعیت: فعال\n",
      "   - نقش: Barista\n",
      "\n",
      "5. **Jasmine Lee**\n",
      "   - شناسه: 11\n",
      "   - تاریخ استخدام: 2025-02-26\n",
      "   - حقوق ساعتی: 15.00\n",
      "   - وضعیت: فعال\n",
      "\n",
      "\u001b[1;3;34mTransformed query given SQL response: None\n",
      "\u001b[0m"
     ]
    }
   ],
   "source": [
    "response = query_engine.query(\n",
    "    \"لیست تمام کارکنان\"\n",
    ")"
   ]
  },
  {
   "cell_type": "code",
   "execution_count": 14,
   "id": "15e48da0-dd8c-48ac-bb95-3a0bc908efa9",
   "metadata": {},
   "outputs": [
    {
     "data": {
      "text/markdown": [
       "لیست تمام کارکنان کافی شاپ به شرح زیر است:\n",
       "\n",
       "1. **David Wilson**\n",
       "   - شناسه: 12\n",
       "   - تاریخ استخدام: 2024-04-26\n",
       "   - حقوق ساعتی: 18.00\n",
       "   - وضعیت: فعال\n",
       "   - نقش: Inventory Specialist\n",
       "\n",
       "2. **Emily Davis**\n",
       "   - شناسه: 9\n",
       "   - تاریخ استخدام: 2024-10-17\n",
       "   - حقوق ساعتی: 13.50\n",
       "   - وضعیت: فعال\n",
       "   - نقش: Waiter\n",
       "\n",
       "3. **Harry Smith**\n",
       "   - شناسه: 5\n",
       "   - تاریخ استخدام: 2022-03-05\n",
       "   - حقوق ساعتی: 35.00\n",
       "   - وضعیت: فعال\n",
       "   - نقش: Manager\n",
       "\n",
       "4. **Jane Smith**\n",
       "   - شناسه: 7\n",
       "   - تاریخ استخدام: 2024-04-02\n",
       "   - حقوق ساعتی: 15.00\n",
       "   - وضعیت: فعال\n",
       "   - نقش: Barista\n",
       "\n",
       "5. **Jasmine Lee**\n",
       "   - شناسه: 11\n",
       "   - تاریخ استخدام: 2025-02-26\n",
       "   - حقوق ساعتی: 15.00\n",
       "   - وضعیت: فعال\n"
      ],
      "text/plain": [
       "<IPython.core.display.Markdown object>"
      ]
     },
     "metadata": {},
     "output_type": "display_data"
    }
   ],
   "source": [
    "from IPython.display import Markdown, display\n",
    "\n",
    "display(Markdown(response.response))"
   ]
  },
  {
   "cell_type": "code",
   "execution_count": 19,
   "id": "7dfff90c-2f48-4c38-a681-111e1a878546",
   "metadata": {},
   "outputs": [
    {
     "name": "stdout",
     "output_type": "stream",
     "text": [
      "\u001b[1;3;34mQuerying SQL database: The first choice mentions 'Product' and 'ProductType', which are relevant to determining the average price of all products.\n",
      "\u001b[1;3;33mSQL query: SELECT AVG(coffeshop_product.price) AS average_price\n",
      "FROM coffeshop_product;\n",
      "\u001b[0m\u001b[1;3;33mSQL response: The average price of all products in the coffee shop is $3.56.\n",
      "\u001b[1;3;34mTransformed query given SQL response: None\n",
      "\u001b[0m"
     ]
    }
   ],
   "source": [
    "response = query_engine.query(\n",
    "    \"averge price of all products\"\n",
    ")"
   ]
  },
  {
   "cell_type": "code",
   "execution_count": 20,
   "id": "223c4c84-0493-466d-ad1e-8d3f2b83e927",
   "metadata": {},
   "outputs": [
    {
     "data": {
      "text/markdown": [
       "The average price of all products in the coffee shop is $3.56."
      ],
      "text/plain": [
       "<IPython.core.display.Markdown object>"
      ]
     },
     "metadata": {},
     "output_type": "display_data"
    }
   ],
   "source": [
    "from IPython.display import Markdown, display\n",
    "\n",
    "display(Markdown(response.response))"
   ]
  },
  {
   "cell_type": "code",
   "execution_count": null,
   "id": "c2d8fe04-e4fe-42d1-9b2e-eefb2fb7b9eb",
   "metadata": {},
   "outputs": [],
   "source": []
  }
 ],
 "metadata": {
  "kernelspec": {
   "display_name": "Python 3 (ipykernel)",
   "language": "python",
   "name": "python3"
  },
  "language_info": {
   "codemirror_mode": {
    "name": "ipython",
    "version": 3
   },
   "file_extension": ".py",
   "mimetype": "text/x-python",
   "name": "python",
   "nbconvert_exporter": "python",
   "pygments_lexer": "ipython3",
   "version": "3.11.11"
  }
 },
 "nbformat": 4,
 "nbformat_minor": 5
}
